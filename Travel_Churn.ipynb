{
  "nbformat": 4,
  "nbformat_minor": 0,
  "metadata": {
    "colab": {
      "provenance": [],
      "collapsed_sections": [
        "l0AeJNAqVFZw",
        "injiKF_XHzF_",
        "449A5_OkGsaX"
      ]
    },
    "kernelspec": {
      "name": "python3",
      "display_name": "Python 3"
    },
    "language_info": {
      "name": "python"
    }
  },
  "cells": [
    {
      "cell_type": "markdown",
      "source": [
        "Restarting session"
      ],
      "metadata": {
        "id": "-ErjDNlscdXl"
      }
    },
    {
      "cell_type": "code",
      "execution_count": 102,
      "metadata": {
        "colab": {
          "base_uri": "https://localhost:8080/"
        },
        "id": "KtFDAtOt822D",
        "outputId": "91ebdff8-0456-403b-d096-99aa0fd14d70"
      },
      "outputs": [
        {
          "output_type": "stream",
          "name": "stdout",
          "text": [
            "\u001b[H\u001b[2J"
          ]
        }
      ],
      "source": [
        "try:\n",
        "    from IPython import get_ipython\n",
        "    get_ipython().magic('clear')\n",
        "    get_ipython().magic('reset -f')\n",
        "except:\n",
        "    pass"
      ]
    },
    {
      "cell_type": "markdown",
      "source": [
        "Relevant libraries"
      ],
      "metadata": {
        "id": "AssopbCJciVd"
      }
    },
    {
      "cell_type": "code",
      "source": [
        "#Standard libraries for data analysis:\n",
        "    \n",
        "import numpy as np\n",
        "import matplotlib.pyplot as plt\n",
        "import pandas as pd\n",
        "from scipy.stats import norm, skew\n",
        "from scipy import stats\n",
        "import statsmodels.api as sm\n",
        "# sklearn modules for data preprocessing:\n",
        "from sklearn.impute import SimpleImputer\n",
        "from sklearn.preprocessing import LabelEncoder, OneHotEncoder\n",
        "from sklearn.compose import ColumnTransformer\n",
        "from sklearn.preprocessing import OneHotEncoder\n",
        "from sklearn.model_selection import train_test_split\n",
        "from sklearn.preprocessing import StandardScaler\n",
        "#sklearn modules for Model Selection:\n",
        "from sklearn import svm, tree, linear_model, neighbors\n",
        "from sklearn import naive_bayes, ensemble, discriminant_analysis, gaussian_process\n",
        "from sklearn.neighbors import KNeighborsClassifier\n",
        "from sklearn.discriminant_analysis import LinearDiscriminantAnalysis\n",
        "from xgboost import XGBClassifier\n",
        "from sklearn.linear_model import LogisticRegression\n",
        "from sklearn.svm import SVC\n",
        "from sklearn.neighbors import KNeighborsClassifier\n",
        "from sklearn.naive_bayes import GaussianNB\n",
        "from sklearn.tree import DecisionTreeClassifier\n",
        "from sklearn.ensemble import RandomForestClassifier\n",
        "#sklearn modules for Model Evaluation & Improvement:\n",
        "    \n",
        "from sklearn.metrics import confusion_matrix, accuracy_score \n",
        "from sklearn.metrics import f1_score, precision_score, recall_score, fbeta_score\n",
        "from statsmodels.stats.outliers_influence import variance_inflation_factor\n",
        "from sklearn.model_selection import cross_val_score\n",
        "from sklearn.model_selection import GridSearchCV\n",
        "from sklearn.model_selection import ShuffleSplit\n",
        "from sklearn.model_selection import KFold\n",
        "from sklearn import feature_selection\n",
        "from sklearn import model_selection\n",
        "from sklearn import metrics\n",
        "from sklearn.metrics import classification_report, precision_recall_curve\n",
        "from sklearn.metrics import auc, roc_auc_score, roc_curve\n",
        "from sklearn.metrics import make_scorer, recall_score, log_loss\n",
        "from sklearn.metrics import average_precision_score\n",
        "#Standard libraries for data visualization:\n",
        "import seaborn as sn\n",
        "from matplotlib import pyplot\n",
        "import matplotlib.pyplot as plt\n",
        "import matplotlib.pylab as pylab\n",
        "import matplotlib \n",
        "%matplotlib inline\n",
        "color = sn.color_palette()\n",
        "import matplotlib.ticker as mtick\n",
        "from IPython.display import display\n",
        "pd.options.display.max_columns = None\n",
        "from pandas.plotting import scatter_matrix\n",
        "from sklearn.metrics import roc_curve\n",
        "#Miscellaneous Utilitiy Libraries:\n",
        "    \n",
        "import random\n",
        "import os\n",
        "import re\n",
        "import sys\n",
        "import timeit\n",
        "import string\n",
        "import time\n",
        "from datetime import datetime\n",
        "from time import time\n",
        "from dateutil.parser import parse\n",
        "import joblib\n",
        "\n",
        "# ignore warnings for now\n",
        "import warnings\n",
        "warnings.filterwarnings('ignore')"
      ],
      "metadata": {
        "id": "thO2WAzpcMIB"
      },
      "execution_count": 103,
      "outputs": []
    },
    {
      "cell_type": "code",
      "source": [
        "#additional\n",
        "from sklearn.discriminant_analysis import LinearDiscriminantAnalysis, QuadraticDiscriminantAnalysis\n",
        "from sklearn.ensemble import RandomForestClassifier, AdaBoostClassifier, GradientBoostingClassifier\n",
        "from sklearn.svm import SVC, LinearSVC"
      ],
      "metadata": {
        "id": "TpqEVi8UvRFl"
      },
      "execution_count": 104,
      "outputs": []
    },
    {
      "cell_type": "code",
      "source": [
        "# View the travel data\n",
        "travel = pd.read_csv(\"Customertravel.csv\")\n",
        "travel\n"
      ],
      "metadata": {
        "colab": {
          "base_uri": "https://localhost:8080/",
          "height": 424
        },
        "id": "kwtzOcGTcZ2Y",
        "outputId": "58efd8d0-ee3b-45dc-abed-4d786094600b"
      },
      "execution_count": 105,
      "outputs": [
        {
          "output_type": "execute_result",
          "data": {
            "text/plain": [
              "     Age FrequentFlyer AnnualIncomeClass  ServicesOpted  \\\n",
              "0     34            No     Middle Income              6   \n",
              "1     34           Yes        Low Income              5   \n",
              "2     37            No     Middle Income              3   \n",
              "3     30            No     Middle Income              2   \n",
              "4     30            No        Low Income              1   \n",
              "..   ...           ...               ...            ...   \n",
              "949   31           Yes        Low Income              1   \n",
              "950   30            No     Middle Income              5   \n",
              "951   37            No     Middle Income              4   \n",
              "952   30            No        Low Income              1   \n",
              "953   31           Yes       High Income              1   \n",
              "\n",
              "    AccountSyncedToSocialMedia BookedHotelOrNot  Target  \n",
              "0                           No              Yes       0  \n",
              "1                          Yes               No       1  \n",
              "2                          Yes               No       0  \n",
              "3                           No               No       0  \n",
              "4                           No               No       0  \n",
              "..                         ...              ...     ...  \n",
              "949                         No               No       0  \n",
              "950                         No              Yes       0  \n",
              "951                         No               No       0  \n",
              "952                        Yes              Yes       0  \n",
              "953                         No               No       0  \n",
              "\n",
              "[954 rows x 7 columns]"
            ],
            "text/html": [
              "\n",
              "  <div id=\"df-68deb1dc-ece6-4ae3-abfc-26b076ab2c67\">\n",
              "    <div class=\"colab-df-container\">\n",
              "      <div>\n",
              "<style scoped>\n",
              "    .dataframe tbody tr th:only-of-type {\n",
              "        vertical-align: middle;\n",
              "    }\n",
              "\n",
              "    .dataframe tbody tr th {\n",
              "        vertical-align: top;\n",
              "    }\n",
              "\n",
              "    .dataframe thead th {\n",
              "        text-align: right;\n",
              "    }\n",
              "</style>\n",
              "<table border=\"1\" class=\"dataframe\">\n",
              "  <thead>\n",
              "    <tr style=\"text-align: right;\">\n",
              "      <th></th>\n",
              "      <th>Age</th>\n",
              "      <th>FrequentFlyer</th>\n",
              "      <th>AnnualIncomeClass</th>\n",
              "      <th>ServicesOpted</th>\n",
              "      <th>AccountSyncedToSocialMedia</th>\n",
              "      <th>BookedHotelOrNot</th>\n",
              "      <th>Target</th>\n",
              "    </tr>\n",
              "  </thead>\n",
              "  <tbody>\n",
              "    <tr>\n",
              "      <th>0</th>\n",
              "      <td>34</td>\n",
              "      <td>No</td>\n",
              "      <td>Middle Income</td>\n",
              "      <td>6</td>\n",
              "      <td>No</td>\n",
              "      <td>Yes</td>\n",
              "      <td>0</td>\n",
              "    </tr>\n",
              "    <tr>\n",
              "      <th>1</th>\n",
              "      <td>34</td>\n",
              "      <td>Yes</td>\n",
              "      <td>Low Income</td>\n",
              "      <td>5</td>\n",
              "      <td>Yes</td>\n",
              "      <td>No</td>\n",
              "      <td>1</td>\n",
              "    </tr>\n",
              "    <tr>\n",
              "      <th>2</th>\n",
              "      <td>37</td>\n",
              "      <td>No</td>\n",
              "      <td>Middle Income</td>\n",
              "      <td>3</td>\n",
              "      <td>Yes</td>\n",
              "      <td>No</td>\n",
              "      <td>0</td>\n",
              "    </tr>\n",
              "    <tr>\n",
              "      <th>3</th>\n",
              "      <td>30</td>\n",
              "      <td>No</td>\n",
              "      <td>Middle Income</td>\n",
              "      <td>2</td>\n",
              "      <td>No</td>\n",
              "      <td>No</td>\n",
              "      <td>0</td>\n",
              "    </tr>\n",
              "    <tr>\n",
              "      <th>4</th>\n",
              "      <td>30</td>\n",
              "      <td>No</td>\n",
              "      <td>Low Income</td>\n",
              "      <td>1</td>\n",
              "      <td>No</td>\n",
              "      <td>No</td>\n",
              "      <td>0</td>\n",
              "    </tr>\n",
              "    <tr>\n",
              "      <th>...</th>\n",
              "      <td>...</td>\n",
              "      <td>...</td>\n",
              "      <td>...</td>\n",
              "      <td>...</td>\n",
              "      <td>...</td>\n",
              "      <td>...</td>\n",
              "      <td>...</td>\n",
              "    </tr>\n",
              "    <tr>\n",
              "      <th>949</th>\n",
              "      <td>31</td>\n",
              "      <td>Yes</td>\n",
              "      <td>Low Income</td>\n",
              "      <td>1</td>\n",
              "      <td>No</td>\n",
              "      <td>No</td>\n",
              "      <td>0</td>\n",
              "    </tr>\n",
              "    <tr>\n",
              "      <th>950</th>\n",
              "      <td>30</td>\n",
              "      <td>No</td>\n",
              "      <td>Middle Income</td>\n",
              "      <td>5</td>\n",
              "      <td>No</td>\n",
              "      <td>Yes</td>\n",
              "      <td>0</td>\n",
              "    </tr>\n",
              "    <tr>\n",
              "      <th>951</th>\n",
              "      <td>37</td>\n",
              "      <td>No</td>\n",
              "      <td>Middle Income</td>\n",
              "      <td>4</td>\n",
              "      <td>No</td>\n",
              "      <td>No</td>\n",
              "      <td>0</td>\n",
              "    </tr>\n",
              "    <tr>\n",
              "      <th>952</th>\n",
              "      <td>30</td>\n",
              "      <td>No</td>\n",
              "      <td>Low Income</td>\n",
              "      <td>1</td>\n",
              "      <td>Yes</td>\n",
              "      <td>Yes</td>\n",
              "      <td>0</td>\n",
              "    </tr>\n",
              "    <tr>\n",
              "      <th>953</th>\n",
              "      <td>31</td>\n",
              "      <td>Yes</td>\n",
              "      <td>High Income</td>\n",
              "      <td>1</td>\n",
              "      <td>No</td>\n",
              "      <td>No</td>\n",
              "      <td>0</td>\n",
              "    </tr>\n",
              "  </tbody>\n",
              "</table>\n",
              "<p>954 rows × 7 columns</p>\n",
              "</div>\n",
              "      <button class=\"colab-df-convert\" onclick=\"convertToInteractive('df-68deb1dc-ece6-4ae3-abfc-26b076ab2c67')\"\n",
              "              title=\"Convert this dataframe to an interactive table.\"\n",
              "              style=\"display:none;\">\n",
              "        \n",
              "  <svg xmlns=\"http://www.w3.org/2000/svg\" height=\"24px\"viewBox=\"0 0 24 24\"\n",
              "       width=\"24px\">\n",
              "    <path d=\"M0 0h24v24H0V0z\" fill=\"none\"/>\n",
              "    <path d=\"M18.56 5.44l.94 2.06.94-2.06 2.06-.94-2.06-.94-.94-2.06-.94 2.06-2.06.94zm-11 1L8.5 8.5l.94-2.06 2.06-.94-2.06-.94L8.5 2.5l-.94 2.06-2.06.94zm10 10l.94 2.06.94-2.06 2.06-.94-2.06-.94-.94-2.06-.94 2.06-2.06.94z\"/><path d=\"M17.41 7.96l-1.37-1.37c-.4-.4-.92-.59-1.43-.59-.52 0-1.04.2-1.43.59L10.3 9.45l-7.72 7.72c-.78.78-.78 2.05 0 2.83L4 21.41c.39.39.9.59 1.41.59.51 0 1.02-.2 1.41-.59l7.78-7.78 2.81-2.81c.8-.78.8-2.07 0-2.86zM5.41 20L4 18.59l7.72-7.72 1.47 1.35L5.41 20z\"/>\n",
              "  </svg>\n",
              "      </button>\n",
              "      \n",
              "  <style>\n",
              "    .colab-df-container {\n",
              "      display:flex;\n",
              "      flex-wrap:wrap;\n",
              "      gap: 12px;\n",
              "    }\n",
              "\n",
              "    .colab-df-convert {\n",
              "      background-color: #E8F0FE;\n",
              "      border: none;\n",
              "      border-radius: 50%;\n",
              "      cursor: pointer;\n",
              "      display: none;\n",
              "      fill: #1967D2;\n",
              "      height: 32px;\n",
              "      padding: 0 0 0 0;\n",
              "      width: 32px;\n",
              "    }\n",
              "\n",
              "    .colab-df-convert:hover {\n",
              "      background-color: #E2EBFA;\n",
              "      box-shadow: 0px 1px 2px rgba(60, 64, 67, 0.3), 0px 1px 3px 1px rgba(60, 64, 67, 0.15);\n",
              "      fill: #174EA6;\n",
              "    }\n",
              "\n",
              "    [theme=dark] .colab-df-convert {\n",
              "      background-color: #3B4455;\n",
              "      fill: #D2E3FC;\n",
              "    }\n",
              "\n",
              "    [theme=dark] .colab-df-convert:hover {\n",
              "      background-color: #434B5C;\n",
              "      box-shadow: 0px 1px 3px 1px rgba(0, 0, 0, 0.15);\n",
              "      filter: drop-shadow(0px 1px 2px rgba(0, 0, 0, 0.3));\n",
              "      fill: #FFFFFF;\n",
              "    }\n",
              "  </style>\n",
              "\n",
              "      <script>\n",
              "        const buttonEl =\n",
              "          document.querySelector('#df-68deb1dc-ece6-4ae3-abfc-26b076ab2c67 button.colab-df-convert');\n",
              "        buttonEl.style.display =\n",
              "          google.colab.kernel.accessAllowed ? 'block' : 'none';\n",
              "\n",
              "        async function convertToInteractive(key) {\n",
              "          const element = document.querySelector('#df-68deb1dc-ece6-4ae3-abfc-26b076ab2c67');\n",
              "          const dataTable =\n",
              "            await google.colab.kernel.invokeFunction('convertToInteractive',\n",
              "                                                     [key], {});\n",
              "          if (!dataTable) return;\n",
              "\n",
              "          const docLinkHtml = 'Like what you see? Visit the ' +\n",
              "            '<a target=\"_blank\" href=https://colab.research.google.com/notebooks/data_table.ipynb>data table notebook</a>'\n",
              "            + ' to learn more about interactive tables.';\n",
              "          element.innerHTML = '';\n",
              "          dataTable['output_type'] = 'display_data';\n",
              "          await google.colab.output.renderOutput(dataTable, element);\n",
              "          const docLink = document.createElement('div');\n",
              "          docLink.innerHTML = docLinkHtml;\n",
              "          element.appendChild(docLink);\n",
              "        }\n",
              "      </script>\n",
              "    </div>\n",
              "  </div>\n",
              "  "
            ]
          },
          "metadata": {},
          "execution_count": 105
        }
      ]
    },
    {
      "cell_type": "code",
      "source": [
        "len(travel)"
      ],
      "metadata": {
        "colab": {
          "base_uri": "https://localhost:8080/"
        },
        "id": "hsQQ_xIdPnmj",
        "outputId": "aa5bb2f2-71a9-4896-a29e-4a539d36b3c4"
      },
      "execution_count": 106,
      "outputs": [
        {
          "output_type": "execute_result",
          "data": {
            "text/plain": [
              "954"
            ]
          },
          "metadata": {},
          "execution_count": 106
        }
      ]
    },
    {
      "cell_type": "markdown",
      "source": [
        "##**Evaluating data structure:** \n",
        "Analysing the dataset using the head and column method to understand the input data and how best to analyze it.\n",
        "\n",
        "This is a tour & travels Company churn dataset where each record entails whether the customer is a frequent flyer, their income class, number of times services opted for, if they synched social media, if they use the app to book hotels, and churn."
      ],
      "metadata": {
        "id": "1vOXaIKNcccY"
      }
    },
    {
      "cell_type": "code",
      "source": [
        "travel.columns"
      ],
      "metadata": {
        "colab": {
          "base_uri": "https://localhost:8080/"
        },
        "id": "W4SWdu6hcZkS",
        "outputId": "975b82ce-1127-40f1-8441-8adfd3b37e9f"
      },
      "execution_count": 107,
      "outputs": [
        {
          "output_type": "execute_result",
          "data": {
            "text/plain": [
              "Index(['Age', 'FrequentFlyer', 'AnnualIncomeClass', 'ServicesOpted',\n",
              "       'AccountSyncedToSocialMedia', 'BookedHotelOrNot', 'Target'],\n",
              "      dtype='object')"
            ]
          },
          "metadata": {},
          "execution_count": 107
        }
      ]
    },
    {
      "cell_type": "markdown",
      "source": [
        "Describe method shows that customers' average age is 32 and that customers have opted to use a service an average of 2 times during recent years."
      ],
      "metadata": {
        "id": "03Pp-lxumC5-"
      }
    },
    {
      "cell_type": "code",
      "source": [
        "travel.describe()"
      ],
      "metadata": {
        "colab": {
          "base_uri": "https://localhost:8080/",
          "height": 300
        },
        "id": "5xF2fEJ3kyyE",
        "outputId": "56274518-9ca1-4e8a-b6f6-6dc60b4fd5b3"
      },
      "execution_count": 108,
      "outputs": [
        {
          "output_type": "execute_result",
          "data": {
            "text/plain": [
              "              Age  ServicesOpted      Target\n",
              "count  954.000000     954.000000  954.000000\n",
              "mean    32.109015       2.437107    0.234801\n",
              "std      3.337388       1.606233    0.424097\n",
              "min     27.000000       1.000000    0.000000\n",
              "25%     30.000000       1.000000    0.000000\n",
              "50%     31.000000       2.000000    0.000000\n",
              "75%     35.000000       4.000000    0.000000\n",
              "max     38.000000       6.000000    1.000000"
            ],
            "text/html": [
              "\n",
              "  <div id=\"df-507e6c8b-5c54-4032-b614-0be3128b6e20\">\n",
              "    <div class=\"colab-df-container\">\n",
              "      <div>\n",
              "<style scoped>\n",
              "    .dataframe tbody tr th:only-of-type {\n",
              "        vertical-align: middle;\n",
              "    }\n",
              "\n",
              "    .dataframe tbody tr th {\n",
              "        vertical-align: top;\n",
              "    }\n",
              "\n",
              "    .dataframe thead th {\n",
              "        text-align: right;\n",
              "    }\n",
              "</style>\n",
              "<table border=\"1\" class=\"dataframe\">\n",
              "  <thead>\n",
              "    <tr style=\"text-align: right;\">\n",
              "      <th></th>\n",
              "      <th>Age</th>\n",
              "      <th>ServicesOpted</th>\n",
              "      <th>Target</th>\n",
              "    </tr>\n",
              "  </thead>\n",
              "  <tbody>\n",
              "    <tr>\n",
              "      <th>count</th>\n",
              "      <td>954.000000</td>\n",
              "      <td>954.000000</td>\n",
              "      <td>954.000000</td>\n",
              "    </tr>\n",
              "    <tr>\n",
              "      <th>mean</th>\n",
              "      <td>32.109015</td>\n",
              "      <td>2.437107</td>\n",
              "      <td>0.234801</td>\n",
              "    </tr>\n",
              "    <tr>\n",
              "      <th>std</th>\n",
              "      <td>3.337388</td>\n",
              "      <td>1.606233</td>\n",
              "      <td>0.424097</td>\n",
              "    </tr>\n",
              "    <tr>\n",
              "      <th>min</th>\n",
              "      <td>27.000000</td>\n",
              "      <td>1.000000</td>\n",
              "      <td>0.000000</td>\n",
              "    </tr>\n",
              "    <tr>\n",
              "      <th>25%</th>\n",
              "      <td>30.000000</td>\n",
              "      <td>1.000000</td>\n",
              "      <td>0.000000</td>\n",
              "    </tr>\n",
              "    <tr>\n",
              "      <th>50%</th>\n",
              "      <td>31.000000</td>\n",
              "      <td>2.000000</td>\n",
              "      <td>0.000000</td>\n",
              "    </tr>\n",
              "    <tr>\n",
              "      <th>75%</th>\n",
              "      <td>35.000000</td>\n",
              "      <td>4.000000</td>\n",
              "      <td>0.000000</td>\n",
              "    </tr>\n",
              "    <tr>\n",
              "      <th>max</th>\n",
              "      <td>38.000000</td>\n",
              "      <td>6.000000</td>\n",
              "      <td>1.000000</td>\n",
              "    </tr>\n",
              "  </tbody>\n",
              "</table>\n",
              "</div>\n",
              "      <button class=\"colab-df-convert\" onclick=\"convertToInteractive('df-507e6c8b-5c54-4032-b614-0be3128b6e20')\"\n",
              "              title=\"Convert this dataframe to an interactive table.\"\n",
              "              style=\"display:none;\">\n",
              "        \n",
              "  <svg xmlns=\"http://www.w3.org/2000/svg\" height=\"24px\"viewBox=\"0 0 24 24\"\n",
              "       width=\"24px\">\n",
              "    <path d=\"M0 0h24v24H0V0z\" fill=\"none\"/>\n",
              "    <path d=\"M18.56 5.44l.94 2.06.94-2.06 2.06-.94-2.06-.94-.94-2.06-.94 2.06-2.06.94zm-11 1L8.5 8.5l.94-2.06 2.06-.94-2.06-.94L8.5 2.5l-.94 2.06-2.06.94zm10 10l.94 2.06.94-2.06 2.06-.94-2.06-.94-.94-2.06-.94 2.06-2.06.94z\"/><path d=\"M17.41 7.96l-1.37-1.37c-.4-.4-.92-.59-1.43-.59-.52 0-1.04.2-1.43.59L10.3 9.45l-7.72 7.72c-.78.78-.78 2.05 0 2.83L4 21.41c.39.39.9.59 1.41.59.51 0 1.02-.2 1.41-.59l7.78-7.78 2.81-2.81c.8-.78.8-2.07 0-2.86zM5.41 20L4 18.59l7.72-7.72 1.47 1.35L5.41 20z\"/>\n",
              "  </svg>\n",
              "      </button>\n",
              "      \n",
              "  <style>\n",
              "    .colab-df-container {\n",
              "      display:flex;\n",
              "      flex-wrap:wrap;\n",
              "      gap: 12px;\n",
              "    }\n",
              "\n",
              "    .colab-df-convert {\n",
              "      background-color: #E8F0FE;\n",
              "      border: none;\n",
              "      border-radius: 50%;\n",
              "      cursor: pointer;\n",
              "      display: none;\n",
              "      fill: #1967D2;\n",
              "      height: 32px;\n",
              "      padding: 0 0 0 0;\n",
              "      width: 32px;\n",
              "    }\n",
              "\n",
              "    .colab-df-convert:hover {\n",
              "      background-color: #E2EBFA;\n",
              "      box-shadow: 0px 1px 2px rgba(60, 64, 67, 0.3), 0px 1px 3px 1px rgba(60, 64, 67, 0.15);\n",
              "      fill: #174EA6;\n",
              "    }\n",
              "\n",
              "    [theme=dark] .colab-df-convert {\n",
              "      background-color: #3B4455;\n",
              "      fill: #D2E3FC;\n",
              "    }\n",
              "\n",
              "    [theme=dark] .colab-df-convert:hover {\n",
              "      background-color: #434B5C;\n",
              "      box-shadow: 0px 1px 3px 1px rgba(0, 0, 0, 0.15);\n",
              "      filter: drop-shadow(0px 1px 2px rgba(0, 0, 0, 0.3));\n",
              "      fill: #FFFFFF;\n",
              "    }\n",
              "  </style>\n",
              "\n",
              "      <script>\n",
              "        const buttonEl =\n",
              "          document.querySelector('#df-507e6c8b-5c54-4032-b614-0be3128b6e20 button.colab-df-convert');\n",
              "        buttonEl.style.display =\n",
              "          google.colab.kernel.accessAllowed ? 'block' : 'none';\n",
              "\n",
              "        async function convertToInteractive(key) {\n",
              "          const element = document.querySelector('#df-507e6c8b-5c54-4032-b614-0be3128b6e20');\n",
              "          const dataTable =\n",
              "            await google.colab.kernel.invokeFunction('convertToInteractive',\n",
              "                                                     [key], {});\n",
              "          if (!dataTable) return;\n",
              "\n",
              "          const docLinkHtml = 'Like what you see? Visit the ' +\n",
              "            '<a target=\"_blank\" href=https://colab.research.google.com/notebooks/data_table.ipynb>data table notebook</a>'\n",
              "            + ' to learn more about interactive tables.';\n",
              "          element.innerHTML = '';\n",
              "          dataTable['output_type'] = 'display_data';\n",
              "          await google.colab.output.renderOutput(dataTable, element);\n",
              "          const docLink = document.createElement('div');\n",
              "          docLink.innerHTML = docLinkHtml;\n",
              "          element.appendChild(docLink);\n",
              "        }\n",
              "      </script>\n",
              "    </div>\n",
              "  </div>\n",
              "  "
            ]
          },
          "metadata": {},
          "execution_count": 108
        }
      ]
    },
    {
      "cell_type": "markdown",
      "source": [
        "****dataset shows several numerical and categorical columns providing various information on the customer transactions.**"
      ],
      "metadata": {
        "id": "OlCRd5jBoHu9"
      }
    },
    {
      "cell_type": "code",
      "source": [
        "travel.dtypes"
      ],
      "metadata": {
        "colab": {
          "base_uri": "https://localhost:8080/"
        },
        "id": "X1_vurBNn7_t",
        "outputId": "f35c714f-5b22-4503-8cf8-9c9188cd455c"
      },
      "execution_count": 109,
      "outputs": [
        {
          "output_type": "execute_result",
          "data": {
            "text/plain": [
              "Age                            int64\n",
              "FrequentFlyer                 object\n",
              "AnnualIncomeClass             object\n",
              "ServicesOpted                  int64\n",
              "AccountSyncedToSocialMedia    object\n",
              "BookedHotelOrNot              object\n",
              "Target                         int64\n",
              "dtype: object"
            ]
          },
          "metadata": {},
          "execution_count": 109
        }
      ]
    },
    {
      "cell_type": "markdown",
      "source": [
        "Re-validating column data types and missing values:"
      ],
      "metadata": {
        "id": "NjKRE2FFEFqG"
      }
    },
    {
      "cell_type": "code",
      "source": [
        "travel.isna().any()"
      ],
      "metadata": {
        "colab": {
          "base_uri": "https://localhost:8080/"
        },
        "id": "jTL4Fu3OGPBT",
        "outputId": "f4d6c8d4-3d08-4762-94b6-15e16052fa38"
      },
      "execution_count": 110,
      "outputs": [
        {
          "output_type": "execute_result",
          "data": {
            "text/plain": [
              "Age                           False\n",
              "FrequentFlyer                 False\n",
              "AnnualIncomeClass             False\n",
              "ServicesOpted                 False\n",
              "AccountSyncedToSocialMedia    False\n",
              "BookedHotelOrNot              False\n",
              "Target                        False\n",
              "dtype: bool"
            ]
          },
          "metadata": {},
          "execution_count": 110
        }
      ]
    },
    {
      "cell_type": "markdown",
      "source": [
        "Since we saw \"no record\" under the frequent flyer column when we scanned our data we know the above is inaccurate"
      ],
      "metadata": {
        "id": "4X_wxMNYtGVj"
      }
    },
    {
      "cell_type": "code",
      "source": [
        "#changing \"no record\" to NaN\n",
        "travel = travel.replace('No Record', np.nan)\n",
        "travel.isna().any()"
      ],
      "metadata": {
        "colab": {
          "base_uri": "https://localhost:8080/"
        },
        "id": "tpkb6JBEtPoK",
        "outputId": "8a15b513-e943-4f4d-d628-067d0b0c3d2a"
      },
      "execution_count": 111,
      "outputs": [
        {
          "output_type": "execute_result",
          "data": {
            "text/plain": [
              "Age                           False\n",
              "FrequentFlyer                  True\n",
              "AnnualIncomeClass             False\n",
              "ServicesOpted                 False\n",
              "AccountSyncedToSocialMedia    False\n",
              "BookedHotelOrNot              False\n",
              "Target                        False\n",
              "dtype: bool"
            ]
          },
          "metadata": {},
          "execution_count": 111
        }
      ]
    },
    {
      "cell_type": "code",
      "source": [
        "travel"
      ],
      "metadata": {
        "colab": {
          "base_uri": "https://localhost:8080/",
          "height": 424
        },
        "id": "LhQgG_ElvviJ",
        "outputId": "c96c232f-223c-49c7-e5e7-e2de9e4b2dd5"
      },
      "execution_count": 112,
      "outputs": [
        {
          "output_type": "execute_result",
          "data": {
            "text/plain": [
              "     Age FrequentFlyer AnnualIncomeClass  ServicesOpted  \\\n",
              "0     34            No     Middle Income              6   \n",
              "1     34           Yes        Low Income              5   \n",
              "2     37            No     Middle Income              3   \n",
              "3     30            No     Middle Income              2   \n",
              "4     30            No        Low Income              1   \n",
              "..   ...           ...               ...            ...   \n",
              "949   31           Yes        Low Income              1   \n",
              "950   30            No     Middle Income              5   \n",
              "951   37            No     Middle Income              4   \n",
              "952   30            No        Low Income              1   \n",
              "953   31           Yes       High Income              1   \n",
              "\n",
              "    AccountSyncedToSocialMedia BookedHotelOrNot  Target  \n",
              "0                           No              Yes       0  \n",
              "1                          Yes               No       1  \n",
              "2                          Yes               No       0  \n",
              "3                           No               No       0  \n",
              "4                           No               No       0  \n",
              "..                         ...              ...     ...  \n",
              "949                         No               No       0  \n",
              "950                         No              Yes       0  \n",
              "951                         No               No       0  \n",
              "952                        Yes              Yes       0  \n",
              "953                         No               No       0  \n",
              "\n",
              "[954 rows x 7 columns]"
            ],
            "text/html": [
              "\n",
              "  <div id=\"df-cfc03342-3d4a-49a5-94e3-785c38c11515\">\n",
              "    <div class=\"colab-df-container\">\n",
              "      <div>\n",
              "<style scoped>\n",
              "    .dataframe tbody tr th:only-of-type {\n",
              "        vertical-align: middle;\n",
              "    }\n",
              "\n",
              "    .dataframe tbody tr th {\n",
              "        vertical-align: top;\n",
              "    }\n",
              "\n",
              "    .dataframe thead th {\n",
              "        text-align: right;\n",
              "    }\n",
              "</style>\n",
              "<table border=\"1\" class=\"dataframe\">\n",
              "  <thead>\n",
              "    <tr style=\"text-align: right;\">\n",
              "      <th></th>\n",
              "      <th>Age</th>\n",
              "      <th>FrequentFlyer</th>\n",
              "      <th>AnnualIncomeClass</th>\n",
              "      <th>ServicesOpted</th>\n",
              "      <th>AccountSyncedToSocialMedia</th>\n",
              "      <th>BookedHotelOrNot</th>\n",
              "      <th>Target</th>\n",
              "    </tr>\n",
              "  </thead>\n",
              "  <tbody>\n",
              "    <tr>\n",
              "      <th>0</th>\n",
              "      <td>34</td>\n",
              "      <td>No</td>\n",
              "      <td>Middle Income</td>\n",
              "      <td>6</td>\n",
              "      <td>No</td>\n",
              "      <td>Yes</td>\n",
              "      <td>0</td>\n",
              "    </tr>\n",
              "    <tr>\n",
              "      <th>1</th>\n",
              "      <td>34</td>\n",
              "      <td>Yes</td>\n",
              "      <td>Low Income</td>\n",
              "      <td>5</td>\n",
              "      <td>Yes</td>\n",
              "      <td>No</td>\n",
              "      <td>1</td>\n",
              "    </tr>\n",
              "    <tr>\n",
              "      <th>2</th>\n",
              "      <td>37</td>\n",
              "      <td>No</td>\n",
              "      <td>Middle Income</td>\n",
              "      <td>3</td>\n",
              "      <td>Yes</td>\n",
              "      <td>No</td>\n",
              "      <td>0</td>\n",
              "    </tr>\n",
              "    <tr>\n",
              "      <th>3</th>\n",
              "      <td>30</td>\n",
              "      <td>No</td>\n",
              "      <td>Middle Income</td>\n",
              "      <td>2</td>\n",
              "      <td>No</td>\n",
              "      <td>No</td>\n",
              "      <td>0</td>\n",
              "    </tr>\n",
              "    <tr>\n",
              "      <th>4</th>\n",
              "      <td>30</td>\n",
              "      <td>No</td>\n",
              "      <td>Low Income</td>\n",
              "      <td>1</td>\n",
              "      <td>No</td>\n",
              "      <td>No</td>\n",
              "      <td>0</td>\n",
              "    </tr>\n",
              "    <tr>\n",
              "      <th>...</th>\n",
              "      <td>...</td>\n",
              "      <td>...</td>\n",
              "      <td>...</td>\n",
              "      <td>...</td>\n",
              "      <td>...</td>\n",
              "      <td>...</td>\n",
              "      <td>...</td>\n",
              "    </tr>\n",
              "    <tr>\n",
              "      <th>949</th>\n",
              "      <td>31</td>\n",
              "      <td>Yes</td>\n",
              "      <td>Low Income</td>\n",
              "      <td>1</td>\n",
              "      <td>No</td>\n",
              "      <td>No</td>\n",
              "      <td>0</td>\n",
              "    </tr>\n",
              "    <tr>\n",
              "      <th>950</th>\n",
              "      <td>30</td>\n",
              "      <td>No</td>\n",
              "      <td>Middle Income</td>\n",
              "      <td>5</td>\n",
              "      <td>No</td>\n",
              "      <td>Yes</td>\n",
              "      <td>0</td>\n",
              "    </tr>\n",
              "    <tr>\n",
              "      <th>951</th>\n",
              "      <td>37</td>\n",
              "      <td>No</td>\n",
              "      <td>Middle Income</td>\n",
              "      <td>4</td>\n",
              "      <td>No</td>\n",
              "      <td>No</td>\n",
              "      <td>0</td>\n",
              "    </tr>\n",
              "    <tr>\n",
              "      <th>952</th>\n",
              "      <td>30</td>\n",
              "      <td>No</td>\n",
              "      <td>Low Income</td>\n",
              "      <td>1</td>\n",
              "      <td>Yes</td>\n",
              "      <td>Yes</td>\n",
              "      <td>0</td>\n",
              "    </tr>\n",
              "    <tr>\n",
              "      <th>953</th>\n",
              "      <td>31</td>\n",
              "      <td>Yes</td>\n",
              "      <td>High Income</td>\n",
              "      <td>1</td>\n",
              "      <td>No</td>\n",
              "      <td>No</td>\n",
              "      <td>0</td>\n",
              "    </tr>\n",
              "  </tbody>\n",
              "</table>\n",
              "<p>954 rows × 7 columns</p>\n",
              "</div>\n",
              "      <button class=\"colab-df-convert\" onclick=\"convertToInteractive('df-cfc03342-3d4a-49a5-94e3-785c38c11515')\"\n",
              "              title=\"Convert this dataframe to an interactive table.\"\n",
              "              style=\"display:none;\">\n",
              "        \n",
              "  <svg xmlns=\"http://www.w3.org/2000/svg\" height=\"24px\"viewBox=\"0 0 24 24\"\n",
              "       width=\"24px\">\n",
              "    <path d=\"M0 0h24v24H0V0z\" fill=\"none\"/>\n",
              "    <path d=\"M18.56 5.44l.94 2.06.94-2.06 2.06-.94-2.06-.94-.94-2.06-.94 2.06-2.06.94zm-11 1L8.5 8.5l.94-2.06 2.06-.94-2.06-.94L8.5 2.5l-.94 2.06-2.06.94zm10 10l.94 2.06.94-2.06 2.06-.94-2.06-.94-.94-2.06-.94 2.06-2.06.94z\"/><path d=\"M17.41 7.96l-1.37-1.37c-.4-.4-.92-.59-1.43-.59-.52 0-1.04.2-1.43.59L10.3 9.45l-7.72 7.72c-.78.78-.78 2.05 0 2.83L4 21.41c.39.39.9.59 1.41.59.51 0 1.02-.2 1.41-.59l7.78-7.78 2.81-2.81c.8-.78.8-2.07 0-2.86zM5.41 20L4 18.59l7.72-7.72 1.47 1.35L5.41 20z\"/>\n",
              "  </svg>\n",
              "      </button>\n",
              "      \n",
              "  <style>\n",
              "    .colab-df-container {\n",
              "      display:flex;\n",
              "      flex-wrap:wrap;\n",
              "      gap: 12px;\n",
              "    }\n",
              "\n",
              "    .colab-df-convert {\n",
              "      background-color: #E8F0FE;\n",
              "      border: none;\n",
              "      border-radius: 50%;\n",
              "      cursor: pointer;\n",
              "      display: none;\n",
              "      fill: #1967D2;\n",
              "      height: 32px;\n",
              "      padding: 0 0 0 0;\n",
              "      width: 32px;\n",
              "    }\n",
              "\n",
              "    .colab-df-convert:hover {\n",
              "      background-color: #E2EBFA;\n",
              "      box-shadow: 0px 1px 2px rgba(60, 64, 67, 0.3), 0px 1px 3px 1px rgba(60, 64, 67, 0.15);\n",
              "      fill: #174EA6;\n",
              "    }\n",
              "\n",
              "    [theme=dark] .colab-df-convert {\n",
              "      background-color: #3B4455;\n",
              "      fill: #D2E3FC;\n",
              "    }\n",
              "\n",
              "    [theme=dark] .colab-df-convert:hover {\n",
              "      background-color: #434B5C;\n",
              "      box-shadow: 0px 1px 3px 1px rgba(0, 0, 0, 0.15);\n",
              "      filter: drop-shadow(0px 1px 2px rgba(0, 0, 0, 0.3));\n",
              "      fill: #FFFFFF;\n",
              "    }\n",
              "  </style>\n",
              "\n",
              "      <script>\n",
              "        const buttonEl =\n",
              "          document.querySelector('#df-cfc03342-3d4a-49a5-94e3-785c38c11515 button.colab-df-convert');\n",
              "        buttonEl.style.display =\n",
              "          google.colab.kernel.accessAllowed ? 'block' : 'none';\n",
              "\n",
              "        async function convertToInteractive(key) {\n",
              "          const element = document.querySelector('#df-cfc03342-3d4a-49a5-94e3-785c38c11515');\n",
              "          const dataTable =\n",
              "            await google.colab.kernel.invokeFunction('convertToInteractive',\n",
              "                                                     [key], {});\n",
              "          if (!dataTable) return;\n",
              "\n",
              "          const docLinkHtml = 'Like what you see? Visit the ' +\n",
              "            '<a target=\"_blank\" href=https://colab.research.google.com/notebooks/data_table.ipynb>data table notebook</a>'\n",
              "            + ' to learn more about interactive tables.';\n",
              "          element.innerHTML = '';\n",
              "          dataTable['output_type'] = 'display_data';\n",
              "          await google.colab.output.renderOutput(dataTable, element);\n",
              "          const docLink = document.createElement('div');\n",
              "          docLink.innerHTML = docLinkHtml;\n",
              "          element.appendChild(docLink);\n",
              "        }\n",
              "      </script>\n",
              "    </div>\n",
              "  </div>\n",
              "  "
            ]
          },
          "metadata": {},
          "execution_count": 112
        }
      ]
    },
    {
      "cell_type": "code",
      "source": [
        "travel.isna().sum()"
      ],
      "metadata": {
        "colab": {
          "base_uri": "https://localhost:8080/"
        },
        "id": "ShF-l6C3t5cX",
        "outputId": "e4fd4842-ebb6-48f6-e7b3-b5ac05adfb6d"
      },
      "execution_count": 113,
      "outputs": [
        {
          "output_type": "execute_result",
          "data": {
            "text/plain": [
              "Age                            0\n",
              "FrequentFlyer                 60\n",
              "AnnualIncomeClass              0\n",
              "ServicesOpted                  0\n",
              "AccountSyncedToSocialMedia     0\n",
              "BookedHotelOrNot               0\n",
              "Target                         0\n",
              "dtype: int64"
            ]
          },
          "metadata": {},
          "execution_count": 113
        }
      ]
    },
    {
      "cell_type": "code",
      "source": [
        "travel.columns.to_series().groupby(travel.dtypes).groups"
      ],
      "metadata": {
        "colab": {
          "base_uri": "https://localhost:8080/"
        },
        "id": "UO-kKhMbDs3n",
        "outputId": "2babb7c0-2183-4ab3-d634-627241371573"
      },
      "execution_count": 114,
      "outputs": [
        {
          "output_type": "execute_result",
          "data": {
            "text/plain": [
              "{int64: ['Age', 'ServicesOpted', 'Target'], object: ['FrequentFlyer', 'AnnualIncomeClass', 'AccountSyncedToSocialMedia', 'BookedHotelOrNot']}"
            ]
          },
          "metadata": {},
          "execution_count": 114
        }
      ]
    },
    {
      "cell_type": "code",
      "source": [
        "travel.info()"
      ],
      "metadata": {
        "colab": {
          "base_uri": "https://localhost:8080/"
        },
        "id": "r3WQaS3kEPR4",
        "outputId": "13c4ba4f-9dbf-4a16-f02a-e59607928be6"
      },
      "execution_count": 115,
      "outputs": [
        {
          "output_type": "stream",
          "name": "stdout",
          "text": [
            "<class 'pandas.core.frame.DataFrame'>\n",
            "RangeIndex: 954 entries, 0 to 953\n",
            "Data columns (total 7 columns):\n",
            " #   Column                      Non-Null Count  Dtype \n",
            "---  ------                      --------------  ----- \n",
            " 0   Age                         954 non-null    int64 \n",
            " 1   FrequentFlyer               894 non-null    object\n",
            " 2   AnnualIncomeClass           954 non-null    object\n",
            " 3   ServicesOpted               954 non-null    int64 \n",
            " 4   AccountSyncedToSocialMedia  954 non-null    object\n",
            " 5   BookedHotelOrNot            954 non-null    object\n",
            " 6   Target                      954 non-null    int64 \n",
            "dtypes: int64(3), object(4)\n",
            "memory usage: 52.3+ KB\n"
          ]
        }
      ]
    },
    {
      "cell_type": "markdown",
      "source": [
        "The dataset contains 954 rows and 7 columns. There are 60 missing values in the dataset."
      ],
      "metadata": {
        "id": "AOiuAQzcF0SF"
      }
    },
    {
      "cell_type": "markdown",
      "source": [
        "The dataset contains 954 customers (i.e. rows) and 7 features about the customers and their churn/active status. The goal here is to predict whether a customer will churn (i.e. exited = 1) using the provided features. Thus, in terms of machine learning, we aim to build a supervised learning algorithm to perform a classification task.\n"
      ],
      "metadata": {
        "id": "hRnjuexl_Hom"
      }
    },
    {
      "cell_type": "markdown",
      "source": [
        "# **Clean the Dataset**\n",
        "\n",
        "for our machine learning models, we're leaving \"Target\" column as numeric. 0 and 1 represent False and True."
      ],
      "metadata": {
        "id": "Oj79SiAVUzt3"
      }
    },
    {
      "cell_type": "code",
      "source": [
        "travel"
      ],
      "metadata": {
        "colab": {
          "base_uri": "https://localhost:8080/",
          "height": 424
        },
        "id": "Wm30ZOvpuAku",
        "outputId": "4583a344-69df-4746-d397-4b6274248d3f"
      },
      "execution_count": 116,
      "outputs": [
        {
          "output_type": "execute_result",
          "data": {
            "text/plain": [
              "     Age FrequentFlyer AnnualIncomeClass  ServicesOpted  \\\n",
              "0     34            No     Middle Income              6   \n",
              "1     34           Yes        Low Income              5   \n",
              "2     37            No     Middle Income              3   \n",
              "3     30            No     Middle Income              2   \n",
              "4     30            No        Low Income              1   \n",
              "..   ...           ...               ...            ...   \n",
              "949   31           Yes        Low Income              1   \n",
              "950   30            No     Middle Income              5   \n",
              "951   37            No     Middle Income              4   \n",
              "952   30            No        Low Income              1   \n",
              "953   31           Yes       High Income              1   \n",
              "\n",
              "    AccountSyncedToSocialMedia BookedHotelOrNot  Target  \n",
              "0                           No              Yes       0  \n",
              "1                          Yes               No       1  \n",
              "2                          Yes               No       0  \n",
              "3                           No               No       0  \n",
              "4                           No               No       0  \n",
              "..                         ...              ...     ...  \n",
              "949                         No               No       0  \n",
              "950                         No              Yes       0  \n",
              "951                         No               No       0  \n",
              "952                        Yes              Yes       0  \n",
              "953                         No               No       0  \n",
              "\n",
              "[954 rows x 7 columns]"
            ],
            "text/html": [
              "\n",
              "  <div id=\"df-42a12e49-4462-495e-be70-8e130a9c8794\">\n",
              "    <div class=\"colab-df-container\">\n",
              "      <div>\n",
              "<style scoped>\n",
              "    .dataframe tbody tr th:only-of-type {\n",
              "        vertical-align: middle;\n",
              "    }\n",
              "\n",
              "    .dataframe tbody tr th {\n",
              "        vertical-align: top;\n",
              "    }\n",
              "\n",
              "    .dataframe thead th {\n",
              "        text-align: right;\n",
              "    }\n",
              "</style>\n",
              "<table border=\"1\" class=\"dataframe\">\n",
              "  <thead>\n",
              "    <tr style=\"text-align: right;\">\n",
              "      <th></th>\n",
              "      <th>Age</th>\n",
              "      <th>FrequentFlyer</th>\n",
              "      <th>AnnualIncomeClass</th>\n",
              "      <th>ServicesOpted</th>\n",
              "      <th>AccountSyncedToSocialMedia</th>\n",
              "      <th>BookedHotelOrNot</th>\n",
              "      <th>Target</th>\n",
              "    </tr>\n",
              "  </thead>\n",
              "  <tbody>\n",
              "    <tr>\n",
              "      <th>0</th>\n",
              "      <td>34</td>\n",
              "      <td>No</td>\n",
              "      <td>Middle Income</td>\n",
              "      <td>6</td>\n",
              "      <td>No</td>\n",
              "      <td>Yes</td>\n",
              "      <td>0</td>\n",
              "    </tr>\n",
              "    <tr>\n",
              "      <th>1</th>\n",
              "      <td>34</td>\n",
              "      <td>Yes</td>\n",
              "      <td>Low Income</td>\n",
              "      <td>5</td>\n",
              "      <td>Yes</td>\n",
              "      <td>No</td>\n",
              "      <td>1</td>\n",
              "    </tr>\n",
              "    <tr>\n",
              "      <th>2</th>\n",
              "      <td>37</td>\n",
              "      <td>No</td>\n",
              "      <td>Middle Income</td>\n",
              "      <td>3</td>\n",
              "      <td>Yes</td>\n",
              "      <td>No</td>\n",
              "      <td>0</td>\n",
              "    </tr>\n",
              "    <tr>\n",
              "      <th>3</th>\n",
              "      <td>30</td>\n",
              "      <td>No</td>\n",
              "      <td>Middle Income</td>\n",
              "      <td>2</td>\n",
              "      <td>No</td>\n",
              "      <td>No</td>\n",
              "      <td>0</td>\n",
              "    </tr>\n",
              "    <tr>\n",
              "      <th>4</th>\n",
              "      <td>30</td>\n",
              "      <td>No</td>\n",
              "      <td>Low Income</td>\n",
              "      <td>1</td>\n",
              "      <td>No</td>\n",
              "      <td>No</td>\n",
              "      <td>0</td>\n",
              "    </tr>\n",
              "    <tr>\n",
              "      <th>...</th>\n",
              "      <td>...</td>\n",
              "      <td>...</td>\n",
              "      <td>...</td>\n",
              "      <td>...</td>\n",
              "      <td>...</td>\n",
              "      <td>...</td>\n",
              "      <td>...</td>\n",
              "    </tr>\n",
              "    <tr>\n",
              "      <th>949</th>\n",
              "      <td>31</td>\n",
              "      <td>Yes</td>\n",
              "      <td>Low Income</td>\n",
              "      <td>1</td>\n",
              "      <td>No</td>\n",
              "      <td>No</td>\n",
              "      <td>0</td>\n",
              "    </tr>\n",
              "    <tr>\n",
              "      <th>950</th>\n",
              "      <td>30</td>\n",
              "      <td>No</td>\n",
              "      <td>Middle Income</td>\n",
              "      <td>5</td>\n",
              "      <td>No</td>\n",
              "      <td>Yes</td>\n",
              "      <td>0</td>\n",
              "    </tr>\n",
              "    <tr>\n",
              "      <th>951</th>\n",
              "      <td>37</td>\n",
              "      <td>No</td>\n",
              "      <td>Middle Income</td>\n",
              "      <td>4</td>\n",
              "      <td>No</td>\n",
              "      <td>No</td>\n",
              "      <td>0</td>\n",
              "    </tr>\n",
              "    <tr>\n",
              "      <th>952</th>\n",
              "      <td>30</td>\n",
              "      <td>No</td>\n",
              "      <td>Low Income</td>\n",
              "      <td>1</td>\n",
              "      <td>Yes</td>\n",
              "      <td>Yes</td>\n",
              "      <td>0</td>\n",
              "    </tr>\n",
              "    <tr>\n",
              "      <th>953</th>\n",
              "      <td>31</td>\n",
              "      <td>Yes</td>\n",
              "      <td>High Income</td>\n",
              "      <td>1</td>\n",
              "      <td>No</td>\n",
              "      <td>No</td>\n",
              "      <td>0</td>\n",
              "    </tr>\n",
              "  </tbody>\n",
              "</table>\n",
              "<p>954 rows × 7 columns</p>\n",
              "</div>\n",
              "      <button class=\"colab-df-convert\" onclick=\"convertToInteractive('df-42a12e49-4462-495e-be70-8e130a9c8794')\"\n",
              "              title=\"Convert this dataframe to an interactive table.\"\n",
              "              style=\"display:none;\">\n",
              "        \n",
              "  <svg xmlns=\"http://www.w3.org/2000/svg\" height=\"24px\"viewBox=\"0 0 24 24\"\n",
              "       width=\"24px\">\n",
              "    <path d=\"M0 0h24v24H0V0z\" fill=\"none\"/>\n",
              "    <path d=\"M18.56 5.44l.94 2.06.94-2.06 2.06-.94-2.06-.94-.94-2.06-.94 2.06-2.06.94zm-11 1L8.5 8.5l.94-2.06 2.06-.94-2.06-.94L8.5 2.5l-.94 2.06-2.06.94zm10 10l.94 2.06.94-2.06 2.06-.94-2.06-.94-.94-2.06-.94 2.06-2.06.94z\"/><path d=\"M17.41 7.96l-1.37-1.37c-.4-.4-.92-.59-1.43-.59-.52 0-1.04.2-1.43.59L10.3 9.45l-7.72 7.72c-.78.78-.78 2.05 0 2.83L4 21.41c.39.39.9.59 1.41.59.51 0 1.02-.2 1.41-.59l7.78-7.78 2.81-2.81c.8-.78.8-2.07 0-2.86zM5.41 20L4 18.59l7.72-7.72 1.47 1.35L5.41 20z\"/>\n",
              "  </svg>\n",
              "      </button>\n",
              "      \n",
              "  <style>\n",
              "    .colab-df-container {\n",
              "      display:flex;\n",
              "      flex-wrap:wrap;\n",
              "      gap: 12px;\n",
              "    }\n",
              "\n",
              "    .colab-df-convert {\n",
              "      background-color: #E8F0FE;\n",
              "      border: none;\n",
              "      border-radius: 50%;\n",
              "      cursor: pointer;\n",
              "      display: none;\n",
              "      fill: #1967D2;\n",
              "      height: 32px;\n",
              "      padding: 0 0 0 0;\n",
              "      width: 32px;\n",
              "    }\n",
              "\n",
              "    .colab-df-convert:hover {\n",
              "      background-color: #E2EBFA;\n",
              "      box-shadow: 0px 1px 2px rgba(60, 64, 67, 0.3), 0px 1px 3px 1px rgba(60, 64, 67, 0.15);\n",
              "      fill: #174EA6;\n",
              "    }\n",
              "\n",
              "    [theme=dark] .colab-df-convert {\n",
              "      background-color: #3B4455;\n",
              "      fill: #D2E3FC;\n",
              "    }\n",
              "\n",
              "    [theme=dark] .colab-df-convert:hover {\n",
              "      background-color: #434B5C;\n",
              "      box-shadow: 0px 1px 3px 1px rgba(0, 0, 0, 0.15);\n",
              "      filter: drop-shadow(0px 1px 2px rgba(0, 0, 0, 0.3));\n",
              "      fill: #FFFFFF;\n",
              "    }\n",
              "  </style>\n",
              "\n",
              "      <script>\n",
              "        const buttonEl =\n",
              "          document.querySelector('#df-42a12e49-4462-495e-be70-8e130a9c8794 button.colab-df-convert');\n",
              "        buttonEl.style.display =\n",
              "          google.colab.kernel.accessAllowed ? 'block' : 'none';\n",
              "\n",
              "        async function convertToInteractive(key) {\n",
              "          const element = document.querySelector('#df-42a12e49-4462-495e-be70-8e130a9c8794');\n",
              "          const dataTable =\n",
              "            await google.colab.kernel.invokeFunction('convertToInteractive',\n",
              "                                                     [key], {});\n",
              "          if (!dataTable) return;\n",
              "\n",
              "          const docLinkHtml = 'Like what you see? Visit the ' +\n",
              "            '<a target=\"_blank\" href=https://colab.research.google.com/notebooks/data_table.ipynb>data table notebook</a>'\n",
              "            + ' to learn more about interactive tables.';\n",
              "          element.innerHTML = '';\n",
              "          dataTable['output_type'] = 'display_data';\n",
              "          await google.colab.output.renderOutput(dataTable, element);\n",
              "          const docLink = document.createElement('div');\n",
              "          docLink.innerHTML = docLinkHtml;\n",
              "          element.appendChild(docLink);\n",
              "        }\n",
              "      </script>\n",
              "    </div>\n",
              "  </div>\n",
              "  "
            ]
          },
          "metadata": {},
          "execution_count": 116
        }
      ]
    },
    {
      "cell_type": "markdown",
      "source": [
        "####**Missing values**"
      ],
      "metadata": {
        "id": "hMTK0f_muKWX"
      }
    },
    {
      "cell_type": "code",
      "source": [
        "#looking at the data to see if we want to drop the columns with missing data or change the NaN values to 'yes' or 'no'\n",
        "sample_incomplete_rows = travel[travel.isnull().any(axis=1)].head()\n",
        "sample_incomplete_rows"
      ],
      "metadata": {
        "colab": {
          "base_uri": "https://localhost:8080/",
          "height": 206
        },
        "id": "EoCnACSMuM25",
        "outputId": "0e9cffeb-2835-48c9-fa49-48189eda554f"
      },
      "execution_count": 117,
      "outputs": [
        {
          "output_type": "execute_result",
          "data": {
            "text/plain": [
              "    Age FrequentFlyer AnnualIncomeClass  ServicesOpted  \\\n",
              "12   35           NaN     Middle Income              1   \n",
              "23   30           NaN     Middle Income              2   \n",
              "34   30           NaN        Low Income              4   \n",
              "56   30           NaN     Middle Income              3   \n",
              "67   37           NaN        Low Income              2   \n",
              "\n",
              "   AccountSyncedToSocialMedia BookedHotelOrNot  Target  \n",
              "12                        Yes              Yes       0  \n",
              "23                         No               No       0  \n",
              "34                         No               No       0  \n",
              "56                        Yes              Yes       0  \n",
              "67                        Yes               No       1  "
            ],
            "text/html": [
              "\n",
              "  <div id=\"df-7d3f2b26-917d-4088-8f4d-64ce87e664dc\">\n",
              "    <div class=\"colab-df-container\">\n",
              "      <div>\n",
              "<style scoped>\n",
              "    .dataframe tbody tr th:only-of-type {\n",
              "        vertical-align: middle;\n",
              "    }\n",
              "\n",
              "    .dataframe tbody tr th {\n",
              "        vertical-align: top;\n",
              "    }\n",
              "\n",
              "    .dataframe thead th {\n",
              "        text-align: right;\n",
              "    }\n",
              "</style>\n",
              "<table border=\"1\" class=\"dataframe\">\n",
              "  <thead>\n",
              "    <tr style=\"text-align: right;\">\n",
              "      <th></th>\n",
              "      <th>Age</th>\n",
              "      <th>FrequentFlyer</th>\n",
              "      <th>AnnualIncomeClass</th>\n",
              "      <th>ServicesOpted</th>\n",
              "      <th>AccountSyncedToSocialMedia</th>\n",
              "      <th>BookedHotelOrNot</th>\n",
              "      <th>Target</th>\n",
              "    </tr>\n",
              "  </thead>\n",
              "  <tbody>\n",
              "    <tr>\n",
              "      <th>12</th>\n",
              "      <td>35</td>\n",
              "      <td>NaN</td>\n",
              "      <td>Middle Income</td>\n",
              "      <td>1</td>\n",
              "      <td>Yes</td>\n",
              "      <td>Yes</td>\n",
              "      <td>0</td>\n",
              "    </tr>\n",
              "    <tr>\n",
              "      <th>23</th>\n",
              "      <td>30</td>\n",
              "      <td>NaN</td>\n",
              "      <td>Middle Income</td>\n",
              "      <td>2</td>\n",
              "      <td>No</td>\n",
              "      <td>No</td>\n",
              "      <td>0</td>\n",
              "    </tr>\n",
              "    <tr>\n",
              "      <th>34</th>\n",
              "      <td>30</td>\n",
              "      <td>NaN</td>\n",
              "      <td>Low Income</td>\n",
              "      <td>4</td>\n",
              "      <td>No</td>\n",
              "      <td>No</td>\n",
              "      <td>0</td>\n",
              "    </tr>\n",
              "    <tr>\n",
              "      <th>56</th>\n",
              "      <td>30</td>\n",
              "      <td>NaN</td>\n",
              "      <td>Middle Income</td>\n",
              "      <td>3</td>\n",
              "      <td>Yes</td>\n",
              "      <td>Yes</td>\n",
              "      <td>0</td>\n",
              "    </tr>\n",
              "    <tr>\n",
              "      <th>67</th>\n",
              "      <td>37</td>\n",
              "      <td>NaN</td>\n",
              "      <td>Low Income</td>\n",
              "      <td>2</td>\n",
              "      <td>Yes</td>\n",
              "      <td>No</td>\n",
              "      <td>1</td>\n",
              "    </tr>\n",
              "  </tbody>\n",
              "</table>\n",
              "</div>\n",
              "      <button class=\"colab-df-convert\" onclick=\"convertToInteractive('df-7d3f2b26-917d-4088-8f4d-64ce87e664dc')\"\n",
              "              title=\"Convert this dataframe to an interactive table.\"\n",
              "              style=\"display:none;\">\n",
              "        \n",
              "  <svg xmlns=\"http://www.w3.org/2000/svg\" height=\"24px\"viewBox=\"0 0 24 24\"\n",
              "       width=\"24px\">\n",
              "    <path d=\"M0 0h24v24H0V0z\" fill=\"none\"/>\n",
              "    <path d=\"M18.56 5.44l.94 2.06.94-2.06 2.06-.94-2.06-.94-.94-2.06-.94 2.06-2.06.94zm-11 1L8.5 8.5l.94-2.06 2.06-.94-2.06-.94L8.5 2.5l-.94 2.06-2.06.94zm10 10l.94 2.06.94-2.06 2.06-.94-2.06-.94-.94-2.06-.94 2.06-2.06.94z\"/><path d=\"M17.41 7.96l-1.37-1.37c-.4-.4-.92-.59-1.43-.59-.52 0-1.04.2-1.43.59L10.3 9.45l-7.72 7.72c-.78.78-.78 2.05 0 2.83L4 21.41c.39.39.9.59 1.41.59.51 0 1.02-.2 1.41-.59l7.78-7.78 2.81-2.81c.8-.78.8-2.07 0-2.86zM5.41 20L4 18.59l7.72-7.72 1.47 1.35L5.41 20z\"/>\n",
              "  </svg>\n",
              "      </button>\n",
              "      \n",
              "  <style>\n",
              "    .colab-df-container {\n",
              "      display:flex;\n",
              "      flex-wrap:wrap;\n",
              "      gap: 12px;\n",
              "    }\n",
              "\n",
              "    .colab-df-convert {\n",
              "      background-color: #E8F0FE;\n",
              "      border: none;\n",
              "      border-radius: 50%;\n",
              "      cursor: pointer;\n",
              "      display: none;\n",
              "      fill: #1967D2;\n",
              "      height: 32px;\n",
              "      padding: 0 0 0 0;\n",
              "      width: 32px;\n",
              "    }\n",
              "\n",
              "    .colab-df-convert:hover {\n",
              "      background-color: #E2EBFA;\n",
              "      box-shadow: 0px 1px 2px rgba(60, 64, 67, 0.3), 0px 1px 3px 1px rgba(60, 64, 67, 0.15);\n",
              "      fill: #174EA6;\n",
              "    }\n",
              "\n",
              "    [theme=dark] .colab-df-convert {\n",
              "      background-color: #3B4455;\n",
              "      fill: #D2E3FC;\n",
              "    }\n",
              "\n",
              "    [theme=dark] .colab-df-convert:hover {\n",
              "      background-color: #434B5C;\n",
              "      box-shadow: 0px 1px 3px 1px rgba(0, 0, 0, 0.15);\n",
              "      filter: drop-shadow(0px 1px 2px rgba(0, 0, 0, 0.3));\n",
              "      fill: #FFFFFF;\n",
              "    }\n",
              "  </style>\n",
              "\n",
              "      <script>\n",
              "        const buttonEl =\n",
              "          document.querySelector('#df-7d3f2b26-917d-4088-8f4d-64ce87e664dc button.colab-df-convert');\n",
              "        buttonEl.style.display =\n",
              "          google.colab.kernel.accessAllowed ? 'block' : 'none';\n",
              "\n",
              "        async function convertToInteractive(key) {\n",
              "          const element = document.querySelector('#df-7d3f2b26-917d-4088-8f4d-64ce87e664dc');\n",
              "          const dataTable =\n",
              "            await google.colab.kernel.invokeFunction('convertToInteractive',\n",
              "                                                     [key], {});\n",
              "          if (!dataTable) return;\n",
              "\n",
              "          const docLinkHtml = 'Like what you see? Visit the ' +\n",
              "            '<a target=\"_blank\" href=https://colab.research.google.com/notebooks/data_table.ipynb>data table notebook</a>'\n",
              "            + ' to learn more about interactive tables.';\n",
              "          element.innerHTML = '';\n",
              "          dataTable['output_type'] = 'display_data';\n",
              "          await google.colab.output.renderOutput(dataTable, element);\n",
              "          const docLink = document.createElement('div');\n",
              "          docLink.innerHTML = docLinkHtml;\n",
              "          element.appendChild(docLink);\n",
              "        }\n",
              "      </script>\n",
              "    </div>\n",
              "  </div>\n",
              "  "
            ]
          },
          "metadata": {},
          "execution_count": 117
        }
      ]
    },
    {
      "cell_type": "code",
      "source": [
        "#The data will be dropped \n",
        "travel.dropna(subset = [\"FrequentFlyer\"], inplace = True)\n"
      ],
      "metadata": {
        "id": "z1gHk3xAxlwh"
      },
      "execution_count": 118,
      "outputs": []
    },
    {
      "cell_type": "code",
      "source": [
        "#revalidate to ensure there are no null values in the dataset.\n",
        "travel.isna().any()"
      ],
      "metadata": {
        "colab": {
          "base_uri": "https://localhost:8080/"
        },
        "id": "nMSV3BS2z3lC",
        "outputId": "3b211ce3-df20-48ea-c83a-82398b941977"
      },
      "execution_count": 119,
      "outputs": [
        {
          "output_type": "execute_result",
          "data": {
            "text/plain": [
              "Age                           False\n",
              "FrequentFlyer                 False\n",
              "AnnualIncomeClass             False\n",
              "ServicesOpted                 False\n",
              "AccountSyncedToSocialMedia    False\n",
              "BookedHotelOrNot              False\n",
              "Target                        False\n",
              "dtype: bool"
            ]
          },
          "metadata": {},
          "execution_count": 119
        }
      ]
    },
    {
      "cell_type": "code",
      "source": [
        "len(travel)"
      ],
      "metadata": {
        "colab": {
          "base_uri": "https://localhost:8080/"
        },
        "id": "dct0KIx6yObK",
        "outputId": "f541e9c4-cc36-4c71-d046-bd1b73179d81"
      },
      "execution_count": 120,
      "outputs": [
        {
          "output_type": "execute_result",
          "data": {
            "text/plain": [
              "894"
            ]
          },
          "metadata": {},
          "execution_count": 120
        }
      ]
    },
    {
      "cell_type": "markdown",
      "source": [
        "**Updated:** The dataset now contains 894 rows and 7 columns."
      ],
      "metadata": {
        "id": "rliw5sYpyVPW"
      }
    },
    {
      "cell_type": "markdown",
      "source": [
        "# **Data Evaluation**"
      ],
      "metadata": {
        "id": "1srL0jpe2iUX"
      }
    },
    {
      "cell_type": "markdown",
      "source": [
        "**Data Descriptions**\n",
        "\n",
        "Age: Age of user\n",
        "\n",
        "FrequentFlyer: Whether Customer takes frequent flights\n",
        "\n",
        "AnnualIncomeClass: Class of annual income of user\n",
        "\n",
        "ServicesOpted: Number of times services opted during recent years\n",
        "\n",
        "AccountSyncedToSocialMedia: Whether Company Account Of User Synchronized to Their Social Media\n",
        "\n",
        "BookedHotelOrNot: Whether the customer book lodgings/Hotels using company services\n",
        "\n",
        "Target: 1- Customer Churns 0- Customer doesn’t churn"
      ],
      "metadata": {
        "id": "bjniemswJ4Fi"
      }
    },
    {
      "cell_type": "code",
      "source": [
        "travel"
      ],
      "metadata": {
        "colab": {
          "base_uri": "https://localhost:8080/",
          "height": 424
        },
        "id": "PRe0Uiv_08m3",
        "outputId": "20b1cd59-a36c-47e0-a5c4-91dcd067d34d"
      },
      "execution_count": 121,
      "outputs": [
        {
          "output_type": "execute_result",
          "data": {
            "text/plain": [
              "     Age FrequentFlyer AnnualIncomeClass  ServicesOpted  \\\n",
              "0     34            No     Middle Income              6   \n",
              "1     34           Yes        Low Income              5   \n",
              "2     37            No     Middle Income              3   \n",
              "3     30            No     Middle Income              2   \n",
              "4     30            No        Low Income              1   \n",
              "..   ...           ...               ...            ...   \n",
              "949   31           Yes        Low Income              1   \n",
              "950   30            No     Middle Income              5   \n",
              "951   37            No     Middle Income              4   \n",
              "952   30            No        Low Income              1   \n",
              "953   31           Yes       High Income              1   \n",
              "\n",
              "    AccountSyncedToSocialMedia BookedHotelOrNot  Target  \n",
              "0                           No              Yes       0  \n",
              "1                          Yes               No       1  \n",
              "2                          Yes               No       0  \n",
              "3                           No               No       0  \n",
              "4                           No               No       0  \n",
              "..                         ...              ...     ...  \n",
              "949                         No               No       0  \n",
              "950                         No              Yes       0  \n",
              "951                         No               No       0  \n",
              "952                        Yes              Yes       0  \n",
              "953                         No               No       0  \n",
              "\n",
              "[894 rows x 7 columns]"
            ],
            "text/html": [
              "\n",
              "  <div id=\"df-49be481f-b659-4abd-8e9b-a9d60f43a303\">\n",
              "    <div class=\"colab-df-container\">\n",
              "      <div>\n",
              "<style scoped>\n",
              "    .dataframe tbody tr th:only-of-type {\n",
              "        vertical-align: middle;\n",
              "    }\n",
              "\n",
              "    .dataframe tbody tr th {\n",
              "        vertical-align: top;\n",
              "    }\n",
              "\n",
              "    .dataframe thead th {\n",
              "        text-align: right;\n",
              "    }\n",
              "</style>\n",
              "<table border=\"1\" class=\"dataframe\">\n",
              "  <thead>\n",
              "    <tr style=\"text-align: right;\">\n",
              "      <th></th>\n",
              "      <th>Age</th>\n",
              "      <th>FrequentFlyer</th>\n",
              "      <th>AnnualIncomeClass</th>\n",
              "      <th>ServicesOpted</th>\n",
              "      <th>AccountSyncedToSocialMedia</th>\n",
              "      <th>BookedHotelOrNot</th>\n",
              "      <th>Target</th>\n",
              "    </tr>\n",
              "  </thead>\n",
              "  <tbody>\n",
              "    <tr>\n",
              "      <th>0</th>\n",
              "      <td>34</td>\n",
              "      <td>No</td>\n",
              "      <td>Middle Income</td>\n",
              "      <td>6</td>\n",
              "      <td>No</td>\n",
              "      <td>Yes</td>\n",
              "      <td>0</td>\n",
              "    </tr>\n",
              "    <tr>\n",
              "      <th>1</th>\n",
              "      <td>34</td>\n",
              "      <td>Yes</td>\n",
              "      <td>Low Income</td>\n",
              "      <td>5</td>\n",
              "      <td>Yes</td>\n",
              "      <td>No</td>\n",
              "      <td>1</td>\n",
              "    </tr>\n",
              "    <tr>\n",
              "      <th>2</th>\n",
              "      <td>37</td>\n",
              "      <td>No</td>\n",
              "      <td>Middle Income</td>\n",
              "      <td>3</td>\n",
              "      <td>Yes</td>\n",
              "      <td>No</td>\n",
              "      <td>0</td>\n",
              "    </tr>\n",
              "    <tr>\n",
              "      <th>3</th>\n",
              "      <td>30</td>\n",
              "      <td>No</td>\n",
              "      <td>Middle Income</td>\n",
              "      <td>2</td>\n",
              "      <td>No</td>\n",
              "      <td>No</td>\n",
              "      <td>0</td>\n",
              "    </tr>\n",
              "    <tr>\n",
              "      <th>4</th>\n",
              "      <td>30</td>\n",
              "      <td>No</td>\n",
              "      <td>Low Income</td>\n",
              "      <td>1</td>\n",
              "      <td>No</td>\n",
              "      <td>No</td>\n",
              "      <td>0</td>\n",
              "    </tr>\n",
              "    <tr>\n",
              "      <th>...</th>\n",
              "      <td>...</td>\n",
              "      <td>...</td>\n",
              "      <td>...</td>\n",
              "      <td>...</td>\n",
              "      <td>...</td>\n",
              "      <td>...</td>\n",
              "      <td>...</td>\n",
              "    </tr>\n",
              "    <tr>\n",
              "      <th>949</th>\n",
              "      <td>31</td>\n",
              "      <td>Yes</td>\n",
              "      <td>Low Income</td>\n",
              "      <td>1</td>\n",
              "      <td>No</td>\n",
              "      <td>No</td>\n",
              "      <td>0</td>\n",
              "    </tr>\n",
              "    <tr>\n",
              "      <th>950</th>\n",
              "      <td>30</td>\n",
              "      <td>No</td>\n",
              "      <td>Middle Income</td>\n",
              "      <td>5</td>\n",
              "      <td>No</td>\n",
              "      <td>Yes</td>\n",
              "      <td>0</td>\n",
              "    </tr>\n",
              "    <tr>\n",
              "      <th>951</th>\n",
              "      <td>37</td>\n",
              "      <td>No</td>\n",
              "      <td>Middle Income</td>\n",
              "      <td>4</td>\n",
              "      <td>No</td>\n",
              "      <td>No</td>\n",
              "      <td>0</td>\n",
              "    </tr>\n",
              "    <tr>\n",
              "      <th>952</th>\n",
              "      <td>30</td>\n",
              "      <td>No</td>\n",
              "      <td>Low Income</td>\n",
              "      <td>1</td>\n",
              "      <td>Yes</td>\n",
              "      <td>Yes</td>\n",
              "      <td>0</td>\n",
              "    </tr>\n",
              "    <tr>\n",
              "      <th>953</th>\n",
              "      <td>31</td>\n",
              "      <td>Yes</td>\n",
              "      <td>High Income</td>\n",
              "      <td>1</td>\n",
              "      <td>No</td>\n",
              "      <td>No</td>\n",
              "      <td>0</td>\n",
              "    </tr>\n",
              "  </tbody>\n",
              "</table>\n",
              "<p>894 rows × 7 columns</p>\n",
              "</div>\n",
              "      <button class=\"colab-df-convert\" onclick=\"convertToInteractive('df-49be481f-b659-4abd-8e9b-a9d60f43a303')\"\n",
              "              title=\"Convert this dataframe to an interactive table.\"\n",
              "              style=\"display:none;\">\n",
              "        \n",
              "  <svg xmlns=\"http://www.w3.org/2000/svg\" height=\"24px\"viewBox=\"0 0 24 24\"\n",
              "       width=\"24px\">\n",
              "    <path d=\"M0 0h24v24H0V0z\" fill=\"none\"/>\n",
              "    <path d=\"M18.56 5.44l.94 2.06.94-2.06 2.06-.94-2.06-.94-.94-2.06-.94 2.06-2.06.94zm-11 1L8.5 8.5l.94-2.06 2.06-.94-2.06-.94L8.5 2.5l-.94 2.06-2.06.94zm10 10l.94 2.06.94-2.06 2.06-.94-2.06-.94-.94-2.06-.94 2.06-2.06.94z\"/><path d=\"M17.41 7.96l-1.37-1.37c-.4-.4-.92-.59-1.43-.59-.52 0-1.04.2-1.43.59L10.3 9.45l-7.72 7.72c-.78.78-.78 2.05 0 2.83L4 21.41c.39.39.9.59 1.41.59.51 0 1.02-.2 1.41-.59l7.78-7.78 2.81-2.81c.8-.78.8-2.07 0-2.86zM5.41 20L4 18.59l7.72-7.72 1.47 1.35L5.41 20z\"/>\n",
              "  </svg>\n",
              "      </button>\n",
              "      \n",
              "  <style>\n",
              "    .colab-df-container {\n",
              "      display:flex;\n",
              "      flex-wrap:wrap;\n",
              "      gap: 12px;\n",
              "    }\n",
              "\n",
              "    .colab-df-convert {\n",
              "      background-color: #E8F0FE;\n",
              "      border: none;\n",
              "      border-radius: 50%;\n",
              "      cursor: pointer;\n",
              "      display: none;\n",
              "      fill: #1967D2;\n",
              "      height: 32px;\n",
              "      padding: 0 0 0 0;\n",
              "      width: 32px;\n",
              "    }\n",
              "\n",
              "    .colab-df-convert:hover {\n",
              "      background-color: #E2EBFA;\n",
              "      box-shadow: 0px 1px 2px rgba(60, 64, 67, 0.3), 0px 1px 3px 1px rgba(60, 64, 67, 0.15);\n",
              "      fill: #174EA6;\n",
              "    }\n",
              "\n",
              "    [theme=dark] .colab-df-convert {\n",
              "      background-color: #3B4455;\n",
              "      fill: #D2E3FC;\n",
              "    }\n",
              "\n",
              "    [theme=dark] .colab-df-convert:hover {\n",
              "      background-color: #434B5C;\n",
              "      box-shadow: 0px 1px 3px 1px rgba(0, 0, 0, 0.15);\n",
              "      filter: drop-shadow(0px 1px 2px rgba(0, 0, 0, 0.3));\n",
              "      fill: #FFFFFF;\n",
              "    }\n",
              "  </style>\n",
              "\n",
              "      <script>\n",
              "        const buttonEl =\n",
              "          document.querySelector('#df-49be481f-b659-4abd-8e9b-a9d60f43a303 button.colab-df-convert');\n",
              "        buttonEl.style.display =\n",
              "          google.colab.kernel.accessAllowed ? 'block' : 'none';\n",
              "\n",
              "        async function convertToInteractive(key) {\n",
              "          const element = document.querySelector('#df-49be481f-b659-4abd-8e9b-a9d60f43a303');\n",
              "          const dataTable =\n",
              "            await google.colab.kernel.invokeFunction('convertToInteractive',\n",
              "                                                     [key], {});\n",
              "          if (!dataTable) return;\n",
              "\n",
              "          const docLinkHtml = 'Like what you see? Visit the ' +\n",
              "            '<a target=\"_blank\" href=https://colab.research.google.com/notebooks/data_table.ipynb>data table notebook</a>'\n",
              "            + ' to learn more about interactive tables.';\n",
              "          element.innerHTML = '';\n",
              "          dataTable['output_type'] = 'display_data';\n",
              "          await google.colab.output.renderOutput(dataTable, element);\n",
              "          const docLink = document.createElement('div');\n",
              "          docLink.innerHTML = docLinkHtml;\n",
              "          element.appendChild(docLink);\n",
              "        }\n",
              "      </script>\n",
              "    </div>\n",
              "  </div>\n",
              "  "
            ]
          },
          "metadata": {},
          "execution_count": 121
        }
      ]
    },
    {
      "cell_type": "markdown",
      "source": [
        "# **Exploratory Data Analysis:** \n",
        "\n",
        "explore and visualize the data set by viewing distribution of independent variables.This will help to understand the patterns in the data and to potentially form some hypothesis."
      ],
      "metadata": {
        "id": "24OAkeqX2nve"
      }
    },
    {
      "cell_type": "markdown",
      "source": [
        "**Target Feature: Churn**\n",
        "\n",
        "Description: Whether the passenger churned or not.\n",
        "\n",
        "Key: 0 = active, 1 = churned\n",
        "\n",
        "This is the variable we want our machine learning model to predict based off all the others."
      ],
      "metadata": {
        "id": "ekKZvHryfFZp"
      }
    },
    {
      "cell_type": "markdown",
      "source": [
        "**Check target variable distribution**:\n"
      ],
      "metadata": {
        "id": "rah01PqgM8WG"
      }
    },
    {
      "cell_type": "markdown",
      "source": [
        "Per below, the data set has a high proportion of users who do not churn compared to users who do churn."
      ],
      "metadata": {
        "id": "nLK_YV48Kq7c"
      }
    },
    {
      "cell_type": "code",
      "source": [
        "# How many people churned?\n",
        "fig = plt.figure(figsize=(20,1))\n",
        "sn.countplot(y='Target', data=travel)\n",
        "travel[\"Target\"].value_counts()"
      ],
      "metadata": {
        "colab": {
          "base_uri": "https://localhost:8080/",
          "height": 161
        },
        "id": "DGlpn4hD-beS",
        "outputId": "e165f008-ab3b-4e2d-a7a0-f281db4b1375"
      },
      "execution_count": 122,
      "outputs": [
        {
          "output_type": "execute_result",
          "data": {
            "text/plain": [
              "0    678\n",
              "1    216\n",
              "Name: Target, dtype: int64"
            ]
          },
          "metadata": {},
          "execution_count": 122
        },
        {
          "output_type": "display_data",
          "data": {
            "text/plain": [
              "<Figure size 1440x72 with 1 Axes>"
            ],
            "image/png": "[encoded data removed]"
          },
          "metadata": {
            "needs_background": "light"
          }
        }
      ]
    },
    {
      "cell_type": "code",
      "source": [
        "# Key: 1- Customer Churns, 0- Customer Does Not Churn\n",
        "travel.groupby('Target').describe()"
      ],
      "metadata": {
        "colab": {
          "base_uri": "https://localhost:8080/",
          "height": 175
        },
        "id": "n9GymA9o8pRx",
        "outputId": "97183bce-b5e5-4434-da0e-8d68918f068f"
      },
      "execution_count": 123,
      "outputs": [
        {
          "output_type": "execute_result",
          "data": {
            "text/plain": [
              "          Age                                                     \\\n",
              "        count       mean       std   min   25%   50%   75%   max   \n",
              "Target                                                             \n",
              "0       678.0  32.414454  3.221635  27.0  30.0  31.0  36.0  38.0   \n",
              "1       216.0  31.351852  3.588910  27.0  28.0  30.0  35.0  38.0   \n",
              "\n",
              "       ServicesOpted                                               \n",
              "               count      mean       std  min  25%  50%  75%  max  \n",
              "Target                                                             \n",
              "0              678.0  2.379056  1.545749  1.0  1.0  2.0  3.0  6.0  \n",
              "1              216.0  2.550926  1.788126  1.0  1.0  2.0  4.0  6.0  "
            ],
            "text/html": [
              "\n",
              "  <div id=\"df-21e6165f-b0ef-4ae2-a5ac-ad4d3b2e2d1b\">\n",
              "    <div class=\"colab-df-container\">\n",
              "      <div>\n",
              "<style scoped>\n",
              "    .dataframe tbody tr th:only-of-type {\n",
              "        vertical-align: middle;\n",
              "    }\n",
              "\n",
              "    .dataframe tbody tr th {\n",
              "        vertical-align: top;\n",
              "    }\n",
              "\n",
              "    .dataframe thead tr th {\n",
              "        text-align: left;\n",
              "    }\n",
              "\n",
              "    .dataframe thead tr:last-of-type th {\n",
              "        text-align: right;\n",
              "    }\n",
              "</style>\n",
              "<table border=\"1\" class=\"dataframe\">\n",
              "  <thead>\n",
              "    <tr>\n",
              "      <th></th>\n",
              "      <th colspan=\"8\" halign=\"left\">Age</th>\n",
              "      <th colspan=\"8\" halign=\"left\">ServicesOpted</th>\n",
              "    </tr>\n",
              "    <tr>\n",
              "      <th></th>\n",
              "      <th>count</th>\n",
              "      <th>mean</th>\n",
              "      <th>std</th>\n",
              "      <th>min</th>\n",
              "      <th>25%</th>\n",
              "      <th>50%</th>\n",
              "      <th>75%</th>\n",
              "      <th>max</th>\n",
              "      <th>count</th>\n",
              "      <th>mean</th>\n",
              "      <th>std</th>\n",
              "      <th>min</th>\n",
              "      <th>25%</th>\n",
              "      <th>50%</th>\n",
              "      <th>75%</th>\n",
              "      <th>max</th>\n",
              "    </tr>\n",
              "    <tr>\n",
              "      <th>Target</th>\n",
              "      <th></th>\n",
              "      <th></th>\n",
              "      <th></th>\n",
              "      <th></th>\n",
              "      <th></th>\n",
              "      <th></th>\n",
              "      <th></th>\n",
              "      <th></th>\n",
              "      <th></th>\n",
              "      <th></th>\n",
              "      <th></th>\n",
              "      <th></th>\n",
              "      <th></th>\n",
              "      <th></th>\n",
              "      <th></th>\n",
              "      <th></th>\n",
              "    </tr>\n",
              "  </thead>\n",
              "  <tbody>\n",
              "    <tr>\n",
              "      <th>0</th>\n",
              "      <td>678.0</td>\n",
              "      <td>32.414454</td>\n",
              "      <td>3.221635</td>\n",
              "      <td>27.0</td>\n",
              "      <td>30.0</td>\n",
              "      <td>31.0</td>\n",
              "      <td>36.0</td>\n",
              "      <td>38.0</td>\n",
              "      <td>678.0</td>\n",
              "      <td>2.379056</td>\n",
              "      <td>1.545749</td>\n",
              "      <td>1.0</td>\n",
              "      <td>1.0</td>\n",
              "      <td>2.0</td>\n",
              "      <td>3.0</td>\n",
              "      <td>6.0</td>\n",
              "    </tr>\n",
              "    <tr>\n",
              "      <th>1</th>\n",
              "      <td>216.0</td>\n",
              "      <td>31.351852</td>\n",
              "      <td>3.588910</td>\n",
              "      <td>27.0</td>\n",
              "      <td>28.0</td>\n",
              "      <td>30.0</td>\n",
              "      <td>35.0</td>\n",
              "      <td>38.0</td>\n",
              "      <td>216.0</td>\n",
              "      <td>2.550926</td>\n",
              "      <td>1.788126</td>\n",
              "      <td>1.0</td>\n",
              "      <td>1.0</td>\n",
              "      <td>2.0</td>\n",
              "      <td>4.0</td>\n",
              "      <td>6.0</td>\n",
              "    </tr>\n",
              "  </tbody>\n",
              "</table>\n",
              "</div>\n",
              "      <button class=\"colab-df-convert\" onclick=\"convertToInteractive('df-21e6165f-b0ef-4ae2-a5ac-ad4d3b2e2d1b')\"\n",
              "              title=\"Convert this dataframe to an interactive table.\"\n",
              "              style=\"display:none;\">\n",
              "        \n",
              "  <svg xmlns=\"http://www.w3.org/2000/svg\" height=\"24px\"viewBox=\"0 0 24 24\"\n",
              "       width=\"24px\">\n",
              "    <path d=\"M0 0h24v24H0V0z\" fill=\"none\"/>\n",
              "    <path d=\"M18.56 5.44l.94 2.06.94-2.06 2.06-.94-2.06-.94-.94-2.06-.94 2.06-2.06.94zm-11 1L8.5 8.5l.94-2.06 2.06-.94-2.06-.94L8.5 2.5l-.94 2.06-2.06.94zm10 10l.94 2.06.94-2.06 2.06-.94-2.06-.94-.94-2.06-.94 2.06-2.06.94z\"/><path d=\"M17.41 7.96l-1.37-1.37c-.4-.4-.92-.59-1.43-.59-.52 0-1.04.2-1.43.59L10.3 9.45l-7.72 7.72c-.78.78-.78 2.05 0 2.83L4 21.41c.39.39.9.59 1.41.59.51 0 1.02-.2 1.41-.59l7.78-7.78 2.81-2.81c.8-.78.8-2.07 0-2.86zM5.41 20L4 18.59l7.72-7.72 1.47 1.35L5.41 20z\"/>\n",
              "  </svg>\n",
              "      </button>\n",
              "      \n",
              "  <style>\n",
              "    .colab-df-container {\n",
              "      display:flex;\n",
              "      flex-wrap:wrap;\n",
              "      gap: 12px;\n",
              "    }\n",
              "\n",
              "    .colab-df-convert {\n",
              "      background-color: #E8F0FE;\n",
              "      border: none;\n",
              "      border-radius: 50%;\n",
              "      cursor: pointer;\n",
              "      display: none;\n",
              "      fill: #1967D2;\n",
              "      height: 32px;\n",
              "      padding: 0 0 0 0;\n",
              "      width: 32px;\n",
              "    }\n",
              "\n",
              "    .colab-df-convert:hover {\n",
              "      background-color: #E2EBFA;\n",
              "      box-shadow: 0px 1px 2px rgba(60, 64, 67, 0.3), 0px 1px 3px 1px rgba(60, 64, 67, 0.15);\n",
              "      fill: #174EA6;\n",
              "    }\n",
              "\n",
              "    [theme=dark] .colab-df-convert {\n",
              "      background-color: #3B4455;\n",
              "      fill: #D2E3FC;\n",
              "    }\n",
              "\n",
              "    [theme=dark] .colab-df-convert:hover {\n",
              "      background-color: #434B5C;\n",
              "      box-shadow: 0px 1px 3px 1px rgba(0, 0, 0, 0.15);\n",
              "      filter: drop-shadow(0px 1px 2px rgba(0, 0, 0, 0.3));\n",
              "      fill: #FFFFFF;\n",
              "    }\n",
              "  </style>\n",
              "\n",
              "      <script>\n",
              "        const buttonEl =\n",
              "          document.querySelector('#df-21e6165f-b0ef-4ae2-a5ac-ad4d3b2e2d1b button.colab-df-convert');\n",
              "        buttonEl.style.display =\n",
              "          google.colab.kernel.accessAllowed ? 'block' : 'none';\n",
              "\n",
              "        async function convertToInteractive(key) {\n",
              "          const element = document.querySelector('#df-21e6165f-b0ef-4ae2-a5ac-ad4d3b2e2d1b');\n",
              "          const dataTable =\n",
              "            await google.colab.kernel.invokeFunction('convertToInteractive',\n",
              "                                                     [key], {});\n",
              "          if (!dataTable) return;\n",
              "\n",
              "          const docLinkHtml = 'Like what you see? Visit the ' +\n",
              "            '<a target=\"_blank\" href=https://colab.research.google.com/notebooks/data_table.ipynb>data table notebook</a>'\n",
              "            + ' to learn more about interactive tables.';\n",
              "          element.innerHTML = '';\n",
              "          dataTable['output_type'] = 'display_data';\n",
              "          await google.colab.output.renderOutput(dataTable, element);\n",
              "          const docLink = document.createElement('div');\n",
              "          docLink.innerHTML = docLinkHtml;\n",
              "          element.appendChild(docLink);\n",
              "        }\n",
              "      </script>\n",
              "    </div>\n",
              "  </div>\n",
              "  "
            ]
          },
          "metadata": {},
          "execution_count": 123
        }
      ]
    },
    {
      "cell_type": "markdown",
      "source": [
        "**Overall Churn Rate:** The overall churn rate shows that around 76% of the customers are active."
      ],
      "metadata": {
        "id": "mk3FmYzJzpA_"
      }
    },
    {
      "cell_type": "code",
      "source": [
        "# Creating new DF with ID column to calculate churn rate\n",
        "travel_churn_rate = pd.DataFrame()\n",
        "travel_churn_rate = travel.copy()\n",
        "travel_churn_rate[\"ID\"] = travel_churn_rate.index + 1\n",
        "\n",
        "#calculating churn rate and plotting \n",
        "import matplotlib.ticker as mtick\n",
        "churn_rate = travel_churn_rate[[\"Target\", \"ID\"]]\n",
        "churn_rate [\"churn_label\"] = pd.Series(\n",
        "np.where((churn_rate[\"Target\"] == 0), \"No\", \"Yes\"))\n",
        "sectors = churn_rate .groupby (\"churn_label\")\n",
        "churn_rate = pd.DataFrame(sectors[\"ID\"].count())\n",
        "churn_rate [\"Churn Rate\"] = (\n",
        "churn_rate [\"ID\"]/ sum(churn_rate [\"ID\"]) )*100\n",
        "ax =  churn_rate[[\"Churn Rate\"]].plot.bar(title = 'Overall Churn Rate',legend =True, table = False,grid = False,  subplots = False, \n",
        "figsize =(12, 7), fontsize = 15, stacked=False, \n",
        "ylim =(0,100))\n",
        "plt.ylabel('Proportion of Customers',horizontalalignment=\"center\",\n",
        "fontstyle = \"normal\", fontsize = \"large\", fontfamily = \"sans-serif\")\n",
        "plt.xlabel('Target',horizontalalignment=\"center\",fontstyle = \"normal\", fontsize = \"large\", fontfamily = \"sans-serif\")\n",
        "plt.title('Overall Churn Rate \\n',horizontalalignment=\"center\", \n",
        "fontstyle = \"normal\", fontsize = \"22\", fontfamily = \"sans-serif\")\n",
        "plt.legend(loc='top right', fontsize = \"medium\")\n",
        "plt.xticks(rotation=0, horizontalalignment=\"center\")\n",
        "plt.yticks(rotation=0, horizontalalignment=\"right\")\n",
        "ax.yaxis.set_major_formatter(mtick.PercentFormatter())\n",
        "x_labels = np.array(churn_rate[[\"ID\"]])\n",
        "def add_value_labels(ax, spacing=5):   \n",
        "    for rect in ax.patches:     \n",
        "        y_value = rect.get_height()\n",
        "        x_value = rect.get_x() + rect.get_width() / 2       \n",
        "        space = spacing\n",
        "        va = 'bottom'        \n",
        "        if y_value < 0:           \n",
        "            space *= -1          \n",
        "            va = 'top'\n",
        "        label = \"{:.1f}%\".format(y_value)\n",
        "        ax.annotate(label,\n",
        "                (x_value, y_value),         \n",
        "                 xytext=(0, space),\n",
        "                 textcoords=\"offset points\", \n",
        "                 ha='center',va=va)\n",
        "add_value_labels(ax)\n",
        "ax.autoscale(enable=False, axis='both', tight=False)"
      ],
      "metadata": {
        "colab": {
          "base_uri": "https://localhost:8080/",
          "height": 498
        },
        "id": "FONWyWDTxI6g",
        "outputId": "45aa62dc-fb61-48dd-fcd3-b1b8018700f9"
      },
      "execution_count": 124,
      "outputs": [
        {
          "output_type": "display_data",
          "data": {
            "text/plain": [
              "<Figure size 864x504 with 1 Axes>"
            ],
            "image/png": "[encoded data removed]"
          },
          "metadata": {
            "needs_background": "light"
          }
        }
      ]
    },
    {
      "cell_type": "markdown",
      "source": [
        "####**Histograms of numeric Columns:**"
      ],
      "metadata": {
        "id": "cFLo61ue2_ax"
      }
    },
    {
      "cell_type": "markdown",
      "source": [
        "**Age**"
      ],
      "metadata": {
        "id": "IHkO5TlCngzj"
      }
    },
    {
      "cell_type": "markdown",
      "source": [
        "Observations:\n",
        "The age distribution shows that a majority of the customers are 30 years of age. All the customers in the data set are between the ages of 27 and 38."
      ],
      "metadata": {
        "id": "3lANExxFhX0U"
      }
    },
    {
      "cell_type": "code",
      "source": [
        "travel.Age.plot.hist()"
      ],
      "metadata": {
        "colab": {
          "base_uri": "https://localhost:8080/",
          "height": 285
        },
        "id": "a153yRTIY5JO",
        "outputId": "7297df98-0038-466a-9800-b3bdc018dc59"
      },
      "execution_count": 125,
      "outputs": [
        {
          "output_type": "execute_result",
          "data": {
            "text/plain": [
              "<matplotlib.axes._subplots.AxesSubplot at 0x7efd14fa66d0>"
            ]
          },
          "metadata": {},
          "execution_count": 125
        },
        {
          "output_type": "display_data",
          "data": {
            "text/plain": [
              "<Figure size 432x288 with 1 Axes>"
            ],
            "image/png": "[encoded data removed]"
          },
          "metadata": {
            "needs_background": "light"
          }
        }
      ]
    },
    {
      "cell_type": "code",
      "source": [
        "# What is the age distribution?\n",
        "sn.countplot(y='Age', data=travel)"
      ],
      "metadata": {
        "colab": {
          "base_uri": "https://localhost:8080/",
          "height": 302
        },
        "id": "seJjqzPyCxBQ",
        "outputId": "e52cf2c1-1f02-4db1-b17b-86ae29eb16ce"
      },
      "execution_count": 126,
      "outputs": [
        {
          "output_type": "execute_result",
          "data": {
            "text/plain": [
              "<matplotlib.axes._subplots.AxesSubplot at 0x7efd1011dc90>"
            ]
          },
          "metadata": {},
          "execution_count": 126
        },
        {
          "output_type": "display_data",
          "data": {
            "text/plain": [
              "<Figure size 432x288 with 1 Axes>"
            ],
            "image/png": "[encoded data removed]"
          },
          "metadata": {
            "needs_background": "light"
          }
        }
      ]
    },
    {
      "cell_type": "markdown",
      "source": [
        "**Frequent Flyer**"
      ],
      "metadata": {
        "id": "1WGs3aEmnjRL"
      }
    },
    {
      "cell_type": "markdown",
      "source": [
        "Observations:\n",
        "The table below shows that most users are not frequent flyers."
      ],
      "metadata": {
        "id": "iAvKlnZmn_E9"
      }
    },
    {
      "cell_type": "code",
      "source": [
        "sn.countplot(y=\"FrequentFlyer\", data=travel);"
      ],
      "metadata": {
        "colab": {
          "base_uri": "https://localhost:8080/",
          "height": 285
        },
        "id": "-sVKgDs3jl9i",
        "outputId": "e8a67773-a57e-4d25-90fc-baa89baa5ee3"
      },
      "execution_count": 127,
      "outputs": [
        {
          "output_type": "display_data",
          "data": {
            "text/plain": [
              "<Figure size 432x288 with 1 Axes>"
            ],
            "image/png": "[encoded data removed]"
          },
          "metadata": {
            "needs_background": "light"
          }
        }
      ]
    },
    {
      "cell_type": "markdown",
      "source": [
        "**Annual Income Class**"
      ],
      "metadata": {
        "id": "h3_Lne19uD_a"
      }
    },
    {
      "cell_type": "markdown",
      "source": [
        "Annual income class is evenely distributed among low and middle class with most users either having low or middle income."
      ],
      "metadata": {
        "id": "9arW5p_TtjST"
      }
    },
    {
      "cell_type": "code",
      "source": [
        "sn.countplot(y=\"AnnualIncomeClass\", data=travel);"
      ],
      "metadata": {
        "colab": {
          "base_uri": "https://localhost:8080/",
          "height": 285
        },
        "id": "7MqDbO9_tRRz",
        "outputId": "111eb1ca-58f0-4a3e-d236-1bc962f18fb9"
      },
      "execution_count": 128,
      "outputs": [
        {
          "output_type": "display_data",
          "data": {
            "text/plain": [
              "<Figure size 432x288 with 1 Axes>"
            ],
            "image/png": "[encoded data removed]"
          },
          "metadata": {
            "needs_background": "light"
          }
        }
      ]
    },
    {
      "cell_type": "markdown",
      "source": [
        "**Services Opted**"
      ],
      "metadata": {
        "id": "0N34cj-Gv1W2"
      }
    },
    {
      "cell_type": "markdown",
      "source": [
        "During recent years, the majority of users opt to use services once.\n"
      ],
      "metadata": {
        "id": "t-6--cVev8JP"
      }
    },
    {
      "cell_type": "code",
      "source": [
        "# Services Opted Distribution?\n",
        "sn.countplot(y=\"ServicesOpted\", data=travel);"
      ],
      "metadata": {
        "colab": {
          "base_uri": "https://localhost:8080/",
          "height": 285
        },
        "id": "VWv5iqFcu0uw",
        "outputId": "1c048e8c-eb7c-42dd-c01c-e43a6373920d"
      },
      "execution_count": 129,
      "outputs": [
        {
          "output_type": "display_data",
          "data": {
            "text/plain": [
              "<Figure size 432x288 with 1 Axes>"
            ],
            "image/png": "[encoded data removed]"
          },
          "metadata": {
            "needs_background": "light"
          }
        }
      ]
    },
    {
      "cell_type": "markdown",
      "source": [
        "**Account Synced To Social Media**"
      ],
      "metadata": {
        "id": "Tp6A1syMBnjZ"
      }
    },
    {
      "cell_type": "markdown",
      "source": [
        "Almost 40% of the people have their accounts synched to social media, while the rest, about 60%, do not. "
      ],
      "metadata": {
        "id": "Gh0GLUWpE5Nq"
      }
    },
    {
      "cell_type": "code",
      "source": [
        "# How many people have their accounts linked to a social media account?\n",
        "fig = plt.figure(figsize=(20,1))\n",
        "sn.countplot(y='AccountSyncedToSocialMedia', data=travel);\n",
        "print(travel.AccountSyncedToSocialMedia.value_counts())\n"
      ],
      "metadata": {
        "colab": {
          "base_uri": "https://localhost:8080/",
          "height": 234
        },
        "id": "29illdHpAgXT",
        "outputId": "8ff6c4a0-09ad-47c2-8a22-3a6c81a003f7"
      },
      "execution_count": 130,
      "outputs": [
        {
          "output_type": "stream",
          "name": "stdout",
          "text": [
            "No     561\n",
            "Yes    333\n",
            "Name: AccountSyncedToSocialMedia, dtype: int64\n"
          ]
        },
        {
          "output_type": "display_data",
          "data": {
            "text/plain": [
              "<Figure size 1440x72 with 1 Axes>"
            ],
            "image/png": "[encoded data removed]"
          },
          "metadata": {
            "needs_background": "light"
          }
        }
      ]
    },
    {
      "cell_type": "markdown",
      "source": [
        "**Booked Hotel Or Not**"
      ],
      "metadata": {
        "id": "_MJZAobyGHf4"
      }
    },
    {
      "cell_type": "markdown",
      "source": [
        "Most people do not use the app to book accommodations. About 40% do."
      ],
      "metadata": {
        "id": "RobkoV66GRwH"
      }
    },
    {
      "cell_type": "code",
      "source": [
        "# How many customers book lodgings/Hotels using company service?\n",
        "fig = plt.figure(figsize=(20,1))\n",
        "sn.countplot(y='BookedHotelOrNot', data=travel);\n",
        "print(travel.\tBookedHotelOrNot.value_counts())\n"
      ],
      "metadata": {
        "colab": {
          "base_uri": "https://localhost:8080/",
          "height": 184
        },
        "outputId": "5c95c643-03b6-4139-8b65-765bd21b63c3",
        "id": "noTRSAHIFv9N"
      },
      "execution_count": 131,
      "outputs": [
        {
          "output_type": "stream",
          "name": "stdout",
          "text": [
            "No     542\n",
            "Yes    352\n",
            "Name: BookedHotelOrNot, dtype: int64\n"
          ]
        },
        {
          "output_type": "display_data",
          "data": {
            "text/plain": [
              "<Figure size 1440x72 with 1 Axes>"
            ],
            "image/png": "[encoded data removed]"
          },
          "metadata": {
            "needs_background": "light"
          }
        }
      ]
    },
    {
      "cell_type": "code",
      "source": [
        "#looking at the data\n",
        "travel.head(5)"
      ],
      "metadata": {
        "colab": {
          "base_uri": "https://localhost:8080/",
          "height": 206
        },
        "id": "12jBDCG3xDsI",
        "outputId": "2ee4b121-234e-4685-c396-b78847f0398f"
      },
      "execution_count": 132,
      "outputs": [
        {
          "output_type": "execute_result",
          "data": {
            "text/plain": [
              "   Age FrequentFlyer AnnualIncomeClass  ServicesOpted  \\\n",
              "0   34            No     Middle Income              6   \n",
              "1   34           Yes        Low Income              5   \n",
              "2   37            No     Middle Income              3   \n",
              "3   30            No     Middle Income              2   \n",
              "4   30            No        Low Income              1   \n",
              "\n",
              "  AccountSyncedToSocialMedia BookedHotelOrNot  Target  \n",
              "0                         No              Yes       0  \n",
              "1                        Yes               No       1  \n",
              "2                        Yes               No       0  \n",
              "3                         No               No       0  \n",
              "4                         No               No       0  "
            ],
            "text/html": [
              "\n",
              "  <div id=\"df-ed0af7e1-8e24-40c1-aa00-f031a9d558b8\">\n",
              "    <div class=\"colab-df-container\">\n",
              "      <div>\n",
              "<style scoped>\n",
              "    .dataframe tbody tr th:only-of-type {\n",
              "        vertical-align: middle;\n",
              "    }\n",
              "\n",
              "    .dataframe tbody tr th {\n",
              "        vertical-align: top;\n",
              "    }\n",
              "\n",
              "    .dataframe thead th {\n",
              "        text-align: right;\n",
              "    }\n",
              "</style>\n",
              "<table border=\"1\" class=\"dataframe\">\n",
              "  <thead>\n",
              "    <tr style=\"text-align: right;\">\n",
              "      <th></th>\n",
              "      <th>Age</th>\n",
              "      <th>FrequentFlyer</th>\n",
              "      <th>AnnualIncomeClass</th>\n",
              "      <th>ServicesOpted</th>\n",
              "      <th>AccountSyncedToSocialMedia</th>\n",
              "      <th>BookedHotelOrNot</th>\n",
              "      <th>Target</th>\n",
              "    </tr>\n",
              "  </thead>\n",
              "  <tbody>\n",
              "    <tr>\n",
              "      <th>0</th>\n",
              "      <td>34</td>\n",
              "      <td>No</td>\n",
              "      <td>Middle Income</td>\n",
              "      <td>6</td>\n",
              "      <td>No</td>\n",
              "      <td>Yes</td>\n",
              "      <td>0</td>\n",
              "    </tr>\n",
              "    <tr>\n",
              "      <th>1</th>\n",
              "      <td>34</td>\n",
              "      <td>Yes</td>\n",
              "      <td>Low Income</td>\n",
              "      <td>5</td>\n",
              "      <td>Yes</td>\n",
              "      <td>No</td>\n",
              "      <td>1</td>\n",
              "    </tr>\n",
              "    <tr>\n",
              "      <th>2</th>\n",
              "      <td>37</td>\n",
              "      <td>No</td>\n",
              "      <td>Middle Income</td>\n",
              "      <td>3</td>\n",
              "      <td>Yes</td>\n",
              "      <td>No</td>\n",
              "      <td>0</td>\n",
              "    </tr>\n",
              "    <tr>\n",
              "      <th>3</th>\n",
              "      <td>30</td>\n",
              "      <td>No</td>\n",
              "      <td>Middle Income</td>\n",
              "      <td>2</td>\n",
              "      <td>No</td>\n",
              "      <td>No</td>\n",
              "      <td>0</td>\n",
              "    </tr>\n",
              "    <tr>\n",
              "      <th>4</th>\n",
              "      <td>30</td>\n",
              "      <td>No</td>\n",
              "      <td>Low Income</td>\n",
              "      <td>1</td>\n",
              "      <td>No</td>\n",
              "      <td>No</td>\n",
              "      <td>0</td>\n",
              "    </tr>\n",
              "  </tbody>\n",
              "</table>\n",
              "</div>\n",
              "      <button class=\"colab-df-convert\" onclick=\"convertToInteractive('df-ed0af7e1-8e24-40c1-aa00-f031a9d558b8')\"\n",
              "              title=\"Convert this dataframe to an interactive table.\"\n",
              "              style=\"display:none;\">\n",
              "        \n",
              "  <svg xmlns=\"http://www.w3.org/2000/svg\" height=\"24px\"viewBox=\"0 0 24 24\"\n",
              "       width=\"24px\">\n",
              "    <path d=\"M0 0h24v24H0V0z\" fill=\"none\"/>\n",
              "    <path d=\"M18.56 5.44l.94 2.06.94-2.06 2.06-.94-2.06-.94-.94-2.06-.94 2.06-2.06.94zm-11 1L8.5 8.5l.94-2.06 2.06-.94-2.06-.94L8.5 2.5l-.94 2.06-2.06.94zm10 10l.94 2.06.94-2.06 2.06-.94-2.06-.94-.94-2.06-.94 2.06-2.06.94z\"/><path d=\"M17.41 7.96l-1.37-1.37c-.4-.4-.92-.59-1.43-.59-.52 0-1.04.2-1.43.59L10.3 9.45l-7.72 7.72c-.78.78-.78 2.05 0 2.83L4 21.41c.39.39.9.59 1.41.59.51 0 1.02-.2 1.41-.59l7.78-7.78 2.81-2.81c.8-.78.8-2.07 0-2.86zM5.41 20L4 18.59l7.72-7.72 1.47 1.35L5.41 20z\"/>\n",
              "  </svg>\n",
              "      </button>\n",
              "      \n",
              "  <style>\n",
              "    .colab-df-container {\n",
              "      display:flex;\n",
              "      flex-wrap:wrap;\n",
              "      gap: 12px;\n",
              "    }\n",
              "\n",
              "    .colab-df-convert {\n",
              "      background-color: #E8F0FE;\n",
              "      border: none;\n",
              "      border-radius: 50%;\n",
              "      cursor: pointer;\n",
              "      display: none;\n",
              "      fill: #1967D2;\n",
              "      height: 32px;\n",
              "      padding: 0 0 0 0;\n",
              "      width: 32px;\n",
              "    }\n",
              "\n",
              "    .colab-df-convert:hover {\n",
              "      background-color: #E2EBFA;\n",
              "      box-shadow: 0px 1px 2px rgba(60, 64, 67, 0.3), 0px 1px 3px 1px rgba(60, 64, 67, 0.15);\n",
              "      fill: #174EA6;\n",
              "    }\n",
              "\n",
              "    [theme=dark] .colab-df-convert {\n",
              "      background-color: #3B4455;\n",
              "      fill: #D2E3FC;\n",
              "    }\n",
              "\n",
              "    [theme=dark] .colab-df-convert:hover {\n",
              "      background-color: #434B5C;\n",
              "      box-shadow: 0px 1px 3px 1px rgba(0, 0, 0, 0.15);\n",
              "      filter: drop-shadow(0px 1px 2px rgba(0, 0, 0, 0.3));\n",
              "      fill: #FFFFFF;\n",
              "    }\n",
              "  </style>\n",
              "\n",
              "      <script>\n",
              "        const buttonEl =\n",
              "          document.querySelector('#df-ed0af7e1-8e24-40c1-aa00-f031a9d558b8 button.colab-df-convert');\n",
              "        buttonEl.style.display =\n",
              "          google.colab.kernel.accessAllowed ? 'block' : 'none';\n",
              "\n",
              "        async function convertToInteractive(key) {\n",
              "          const element = document.querySelector('#df-ed0af7e1-8e24-40c1-aa00-f031a9d558b8');\n",
              "          const dataTable =\n",
              "            await google.colab.kernel.invokeFunction('convertToInteractive',\n",
              "                                                     [key], {});\n",
              "          if (!dataTable) return;\n",
              "\n",
              "          const docLinkHtml = 'Like what you see? Visit the ' +\n",
              "            '<a target=\"_blank\" href=https://colab.research.google.com/notebooks/data_table.ipynb>data table notebook</a>'\n",
              "            + ' to learn more about interactive tables.';\n",
              "          element.innerHTML = '';\n",
              "          dataTable['output_type'] = 'display_data';\n",
              "          await google.colab.output.renderOutput(dataTable, element);\n",
              "          const docLink = document.createElement('div');\n",
              "          docLink.innerHTML = docLinkHtml;\n",
              "          element.appendChild(docLink);\n",
              "        }\n",
              "      </script>\n",
              "    </div>\n",
              "  </div>\n",
              "  "
            ]
          },
          "metadata": {},
          "execution_count": 132
        }
      ]
    },
    {
      "cell_type": "markdown",
      "source": [
        "# **Correlation Analysis**"
      ],
      "metadata": {
        "id": "nyrqtEAydUUE"
      }
    },
    {
      "cell_type": "markdown",
      "source": [
        "######**Numerical Values**"
      ],
      "metadata": {
        "id": "UhipMdqq7Vq3"
      }
    },
    {
      "cell_type": "markdown",
      "source": [
        "The highest correlation is between services opted and hotel booking through app. Churn and accommodation booking have a negative correlation. Churn and age are also negatively correlated."
      ],
      "metadata": {
        "id": "zFGn1lxJ7cgu"
      }
    },
    {
      "cell_type": "markdown",
      "source": [
        "***Label Encode Binary data: \"Since Machine Learning algorithms typically only have numerical values as their independent variables, label encoding is pivotal to encode categorical labels with appropriate numerical values.\" ***\n",
        "\n",
        "Label encoding all categorical variables that have only two unique values."
      ],
      "metadata": {
        "id": "QuVazofO0OCE"
      }
    },
    {
      "cell_type": "code",
      "source": [
        "#Create a label encoder object\n",
        "le = LabelEncoder()\n",
        "# Label Encoding will be used for columns with 2 or less unique values\n",
        "le_count = 0\n",
        "for col in travel.columns[1:]:\n",
        "    if travel[col].dtype == 'object':\n",
        "        if len(list(travel[col].unique())) <= 2:\n",
        "            le.fit(travel[col])\n",
        "            travel[col] = le.transform(travel[col])\n",
        "            le_count += 1\n",
        "print('{} columns were label encoded.'.format(le_count))"
      ],
      "metadata": {
        "colab": {
          "base_uri": "https://localhost:8080/"
        },
        "id": "5PPbOkFeypkQ",
        "outputId": "e3482c01-9fda-4619-89bd-ba062ef8c4b4"
      },
      "execution_count": 133,
      "outputs": [
        {
          "output_type": "stream",
          "name": "stdout",
          "text": [
            "3 columns were label encoded.\n"
          ]
        }
      ]
    },
    {
      "cell_type": "markdown",
      "source": [
        "######**Transforming categoical variables.**"
      ],
      "metadata": {
        "id": "Tqf-vZrrqf6N"
      }
    },
    {
      "cell_type": "code",
      "source": [
        "#Transform Frequent Flyer and Income Class data to scale for our model\n",
        "cleanup_nums = {'FrequentFlyer': {'No': 0, 'Yes': 1},\n",
        "                'AnnualIncomeClass': {'Low Income': 0, 'Middle Income': 1, 'High Income': 2}}"
      ],
      "metadata": {
        "id": "DdStsNmLsoNX"
      },
      "execution_count": 134,
      "outputs": []
    },
    {
      "cell_type": "code",
      "source": [
        "df1 = travel.replace(cleanup_nums)\n",
        "df1.head()"
      ],
      "metadata": {
        "colab": {
          "base_uri": "https://localhost:8080/",
          "height": 206
        },
        "id": "_oqBylA2Ylnx",
        "outputId": "b7f637fc-e3eb-4cb2-b4d5-0a98573166ef"
      },
      "execution_count": 135,
      "outputs": [
        {
          "output_type": "execute_result",
          "data": {
            "text/plain": [
              "   Age  FrequentFlyer  AnnualIncomeClass  ServicesOpted  \\\n",
              "0   34              0                  1              6   \n",
              "1   34              1                  0              5   \n",
              "2   37              0                  1              3   \n",
              "3   30              0                  1              2   \n",
              "4   30              0                  0              1   \n",
              "\n",
              "   AccountSyncedToSocialMedia  BookedHotelOrNot  Target  \n",
              "0                           0                 1       0  \n",
              "1                           1                 0       1  \n",
              "2                           1                 0       0  \n",
              "3                           0                 0       0  \n",
              "4                           0                 0       0  "
            ],
            "text/html": [
              "\n",
              "  <div id=\"df-00f728fe-1c80-4e3d-9797-711b0a227ed8\">\n",
              "    <div class=\"colab-df-container\">\n",
              "      <div>\n",
              "<style scoped>\n",
              "    .dataframe tbody tr th:only-of-type {\n",
              "        vertical-align: middle;\n",
              "    }\n",
              "\n",
              "    .dataframe tbody tr th {\n",
              "        vertical-align: top;\n",
              "    }\n",
              "\n",
              "    .dataframe thead th {\n",
              "        text-align: right;\n",
              "    }\n",
              "</style>\n",
              "<table border=\"1\" class=\"dataframe\">\n",
              "  <thead>\n",
              "    <tr style=\"text-align: right;\">\n",
              "      <th></th>\n",
              "      <th>Age</th>\n",
              "      <th>FrequentFlyer</th>\n",
              "      <th>AnnualIncomeClass</th>\n",
              "      <th>ServicesOpted</th>\n",
              "      <th>AccountSyncedToSocialMedia</th>\n",
              "      <th>BookedHotelOrNot</th>\n",
              "      <th>Target</th>\n",
              "    </tr>\n",
              "  </thead>\n",
              "  <tbody>\n",
              "    <tr>\n",
              "      <th>0</th>\n",
              "      <td>34</td>\n",
              "      <td>0</td>\n",
              "      <td>1</td>\n",
              "      <td>6</td>\n",
              "      <td>0</td>\n",
              "      <td>1</td>\n",
              "      <td>0</td>\n",
              "    </tr>\n",
              "    <tr>\n",
              "      <th>1</th>\n",
              "      <td>34</td>\n",
              "      <td>1</td>\n",
              "      <td>0</td>\n",
              "      <td>5</td>\n",
              "      <td>1</td>\n",
              "      <td>0</td>\n",
              "      <td>1</td>\n",
              "    </tr>\n",
              "    <tr>\n",
              "      <th>2</th>\n",
              "      <td>37</td>\n",
              "      <td>0</td>\n",
              "      <td>1</td>\n",
              "      <td>3</td>\n",
              "      <td>1</td>\n",
              "      <td>0</td>\n",
              "      <td>0</td>\n",
              "    </tr>\n",
              "    <tr>\n",
              "      <th>3</th>\n",
              "      <td>30</td>\n",
              "      <td>0</td>\n",
              "      <td>1</td>\n",
              "      <td>2</td>\n",
              "      <td>0</td>\n",
              "      <td>0</td>\n",
              "      <td>0</td>\n",
              "    </tr>\n",
              "    <tr>\n",
              "      <th>4</th>\n",
              "      <td>30</td>\n",
              "      <td>0</td>\n",
              "      <td>0</td>\n",
              "      <td>1</td>\n",
              "      <td>0</td>\n",
              "      <td>0</td>\n",
              "      <td>0</td>\n",
              "    </tr>\n",
              "  </tbody>\n",
              "</table>\n",
              "</div>\n",
              "      <button class=\"colab-df-convert\" onclick=\"convertToInteractive('df-00f728fe-1c80-4e3d-9797-711b0a227ed8')\"\n",
              "              title=\"Convert this dataframe to an interactive table.\"\n",
              "              style=\"display:none;\">\n",
              "        \n",
              "  <svg xmlns=\"http://www.w3.org/2000/svg\" height=\"24px\"viewBox=\"0 0 24 24\"\n",
              "       width=\"24px\">\n",
              "    <path d=\"M0 0h24v24H0V0z\" fill=\"none\"/>\n",
              "    <path d=\"M18.56 5.44l.94 2.06.94-2.06 2.06-.94-2.06-.94-.94-2.06-.94 2.06-2.06.94zm-11 1L8.5 8.5l.94-2.06 2.06-.94-2.06-.94L8.5 2.5l-.94 2.06-2.06.94zm10 10l.94 2.06.94-2.06 2.06-.94-2.06-.94-.94-2.06-.94 2.06-2.06.94z\"/><path d=\"M17.41 7.96l-1.37-1.37c-.4-.4-.92-.59-1.43-.59-.52 0-1.04.2-1.43.59L10.3 9.45l-7.72 7.72c-.78.78-.78 2.05 0 2.83L4 21.41c.39.39.9.59 1.41.59.51 0 1.02-.2 1.41-.59l7.78-7.78 2.81-2.81c.8-.78.8-2.07 0-2.86zM5.41 20L4 18.59l7.72-7.72 1.47 1.35L5.41 20z\"/>\n",
              "  </svg>\n",
              "      </button>\n",
              "      \n",
              "  <style>\n",
              "    .colab-df-container {\n",
              "      display:flex;\n",
              "      flex-wrap:wrap;\n",
              "      gap: 12px;\n",
              "    }\n",
              "\n",
              "    .colab-df-convert {\n",
              "      background-color: #E8F0FE;\n",
              "      border: none;\n",
              "      border-radius: 50%;\n",
              "      cursor: pointer;\n",
              "      display: none;\n",
              "      fill: #1967D2;\n",
              "      height: 32px;\n",
              "      padding: 0 0 0 0;\n",
              "      width: 32px;\n",
              "    }\n",
              "\n",
              "    .colab-df-convert:hover {\n",
              "      background-color: #E2EBFA;\n",
              "      box-shadow: 0px 1px 2px rgba(60, 64, 67, 0.3), 0px 1px 3px 1px rgba(60, 64, 67, 0.15);\n",
              "      fill: #174EA6;\n",
              "    }\n",
              "\n",
              "    [theme=dark] .colab-df-convert {\n",
              "      background-color: #3B4455;\n",
              "      fill: #D2E3FC;\n",
              "    }\n",
              "\n",
              "    [theme=dark] .colab-df-convert:hover {\n",
              "      background-color: #434B5C;\n",
              "      box-shadow: 0px 1px 3px 1px rgba(0, 0, 0, 0.15);\n",
              "      filter: drop-shadow(0px 1px 2px rgba(0, 0, 0, 0.3));\n",
              "      fill: #FFFFFF;\n",
              "    }\n",
              "  </style>\n",
              "\n",
              "      <script>\n",
              "        const buttonEl =\n",
              "          document.querySelector('#df-00f728fe-1c80-4e3d-9797-711b0a227ed8 button.colab-df-convert');\n",
              "        buttonEl.style.display =\n",
              "          google.colab.kernel.accessAllowed ? 'block' : 'none';\n",
              "\n",
              "        async function convertToInteractive(key) {\n",
              "          const element = document.querySelector('#df-00f728fe-1c80-4e3d-9797-711b0a227ed8');\n",
              "          const dataTable =\n",
              "            await google.colab.kernel.invokeFunction('convertToInteractive',\n",
              "                                                     [key], {});\n",
              "          if (!dataTable) return;\n",
              "\n",
              "          const docLinkHtml = 'Like what you see? Visit the ' +\n",
              "            '<a target=\"_blank\" href=https://colab.research.google.com/notebooks/data_table.ipynb>data table notebook</a>'\n",
              "            + ' to learn more about interactive tables.';\n",
              "          element.innerHTML = '';\n",
              "          dataTable['output_type'] = 'display_data';\n",
              "          await google.colab.output.renderOutput(dataTable, element);\n",
              "          const docLink = document.createElement('div');\n",
              "          docLink.innerHTML = docLinkHtml;\n",
              "          element.appendChild(docLink);\n",
              "        }\n",
              "      </script>\n",
              "    </div>\n",
              "  </div>\n",
              "  "
            ]
          },
          "metadata": {},
          "execution_count": 135
        }
      ]
    },
    {
      "cell_type": "code",
      "source": [
        "df1.corr()"
      ],
      "metadata": {
        "colab": {
          "base_uri": "https://localhost:8080/",
          "height": 333
        },
        "id": "NghNZl1A6e08",
        "outputId": "eceea45b-c70b-4f2c-cf33-206549f42cc5"
      },
      "execution_count": 136,
      "outputs": [
        {
          "output_type": "execute_result",
          "data": {
            "text/plain": [
              "                                 Age  FrequentFlyer  AnnualIncomeClass  \\\n",
              "Age                         1.000000       0.041550          -0.023705   \n",
              "FrequentFlyer               0.041550       1.000000           0.320702   \n",
              "AnnualIncomeClass          -0.023705       0.320702           1.000000   \n",
              "ServicesOpted              -0.005478      -0.174980           0.088902   \n",
              "AccountSyncedToSocialMedia -0.026673      -0.091913          -0.227157   \n",
              "BookedHotelOrNot            0.035276      -0.199319          -0.032267   \n",
              "Target                     -0.136133       0.436410           0.148727   \n",
              "\n",
              "                            ServicesOpted  AccountSyncedToSocialMedia  \\\n",
              "Age                             -0.005478                   -0.026673   \n",
              "FrequentFlyer                   -0.174980                   -0.091913   \n",
              "AnnualIncomeClass                0.088902                   -0.227157   \n",
              "ServicesOpted                    1.000000                   -0.141135   \n",
              "AccountSyncedToSocialMedia      -0.141135                    1.000000   \n",
              "BookedHotelOrNot                 0.159459                   -0.104721   \n",
              "Target                           0.045770                    0.078608   \n",
              "\n",
              "                            BookedHotelOrNot    Target  \n",
              "Age                                 0.035276 -0.136133  \n",
              "FrequentFlyer                      -0.199319  0.436410  \n",
              "AnnualIncomeClass                  -0.032267  0.148727  \n",
              "ServicesOpted                       0.159459  0.045770  \n",
              "AccountSyncedToSocialMedia         -0.104721  0.078608  \n",
              "BookedHotelOrNot                    1.000000 -0.208839  \n",
              "Target                             -0.208839  1.000000  "
            ],
            "text/html": [
              "\n",
              "  <div id=\"df-7e5b10cd-3ba0-4f9b-8040-c26d6f46244f\">\n",
              "    <div class=\"colab-df-container\">\n",
              "      <div>\n",
              "<style scoped>\n",
              "    .dataframe tbody tr th:only-of-type {\n",
              "        vertical-align: middle;\n",
              "    }\n",
              "\n",
              "    .dataframe tbody tr th {\n",
              "        vertical-align: top;\n",
              "    }\n",
              "\n",
              "    .dataframe thead th {\n",
              "        text-align: right;\n",
              "    }\n",
              "</style>\n",
              "<table border=\"1\" class=\"dataframe\">\n",
              "  <thead>\n",
              "    <tr style=\"text-align: right;\">\n",
              "      <th></th>\n",
              "      <th>Age</th>\n",
              "      <th>FrequentFlyer</th>\n",
              "      <th>AnnualIncomeClass</th>\n",
              "      <th>ServicesOpted</th>\n",
              "      <th>AccountSyncedToSocialMedia</th>\n",
              "      <th>BookedHotelOrNot</th>\n",
              "      <th>Target</th>\n",
              "    </tr>\n",
              "  </thead>\n",
              "  <tbody>\n",
              "    <tr>\n",
              "      <th>Age</th>\n",
              "      <td>1.000000</td>\n",
              "      <td>0.041550</td>\n",
              "      <td>-0.023705</td>\n",
              "      <td>-0.005478</td>\n",
              "      <td>-0.026673</td>\n",
              "      <td>0.035276</td>\n",
              "      <td>-0.136133</td>\n",
              "    </tr>\n",
              "    <tr>\n",
              "      <th>FrequentFlyer</th>\n",
              "      <td>0.041550</td>\n",
              "      <td>1.000000</td>\n",
              "      <td>0.320702</td>\n",
              "      <td>-0.174980</td>\n",
              "      <td>-0.091913</td>\n",
              "      <td>-0.199319</td>\n",
              "      <td>0.436410</td>\n",
              "    </tr>\n",
              "    <tr>\n",
              "      <th>AnnualIncomeClass</th>\n",
              "      <td>-0.023705</td>\n",
              "      <td>0.320702</td>\n",
              "      <td>1.000000</td>\n",
              "      <td>0.088902</td>\n",
              "      <td>-0.227157</td>\n",
              "      <td>-0.032267</td>\n",
              "      <td>0.148727</td>\n",
              "    </tr>\n",
              "    <tr>\n",
              "      <th>ServicesOpted</th>\n",
              "      <td>-0.005478</td>\n",
              "      <td>-0.174980</td>\n",
              "      <td>0.088902</td>\n",
              "      <td>1.000000</td>\n",
              "      <td>-0.141135</td>\n",
              "      <td>0.159459</td>\n",
              "      <td>0.045770</td>\n",
              "    </tr>\n",
              "    <tr>\n",
              "      <th>AccountSyncedToSocialMedia</th>\n",
              "      <td>-0.026673</td>\n",
              "      <td>-0.091913</td>\n",
              "      <td>-0.227157</td>\n",
              "      <td>-0.141135</td>\n",
              "      <td>1.000000</td>\n",
              "      <td>-0.104721</td>\n",
              "      <td>0.078608</td>\n",
              "    </tr>\n",
              "    <tr>\n",
              "      <th>BookedHotelOrNot</th>\n",
              "      <td>0.035276</td>\n",
              "      <td>-0.199319</td>\n",
              "      <td>-0.032267</td>\n",
              "      <td>0.159459</td>\n",
              "      <td>-0.104721</td>\n",
              "      <td>1.000000</td>\n",
              "      <td>-0.208839</td>\n",
              "    </tr>\n",
              "    <tr>\n",
              "      <th>Target</th>\n",
              "      <td>-0.136133</td>\n",
              "      <td>0.436410</td>\n",
              "      <td>0.148727</td>\n",
              "      <td>0.045770</td>\n",
              "      <td>0.078608</td>\n",
              "      <td>-0.208839</td>\n",
              "      <td>1.000000</td>\n",
              "    </tr>\n",
              "  </tbody>\n",
              "</table>\n",
              "</div>\n",
              "      <button class=\"colab-df-convert\" onclick=\"convertToInteractive('df-7e5b10cd-3ba0-4f9b-8040-c26d6f46244f')\"\n",
              "              title=\"Convert this dataframe to an interactive table.\"\n",
              "              style=\"display:none;\">\n",
              "        \n",
              "  <svg xmlns=\"http://www.w3.org/2000/svg\" height=\"24px\"viewBox=\"0 0 24 24\"\n",
              "       width=\"24px\">\n",
              "    <path d=\"M0 0h24v24H0V0z\" fill=\"none\"/>\n",
              "    <path d=\"M18.56 5.44l.94 2.06.94-2.06 2.06-.94-2.06-.94-.94-2.06-.94 2.06-2.06.94zm-11 1L8.5 8.5l.94-2.06 2.06-.94-2.06-.94L8.5 2.5l-.94 2.06-2.06.94zm10 10l.94 2.06.94-2.06 2.06-.94-2.06-.94-.94-2.06-.94 2.06-2.06.94z\"/><path d=\"M17.41 7.96l-1.37-1.37c-.4-.4-.92-.59-1.43-.59-.52 0-1.04.2-1.43.59L10.3 9.45l-7.72 7.72c-.78.78-.78 2.05 0 2.83L4 21.41c.39.39.9.59 1.41.59.51 0 1.02-.2 1.41-.59l7.78-7.78 2.81-2.81c.8-.78.8-2.07 0-2.86zM5.41 20L4 18.59l7.72-7.72 1.47 1.35L5.41 20z\"/>\n",
              "  </svg>\n",
              "      </button>\n",
              "      \n",
              "  <style>\n",
              "    .colab-df-container {\n",
              "      display:flex;\n",
              "      flex-wrap:wrap;\n",
              "      gap: 12px;\n",
              "    }\n",
              "\n",
              "    .colab-df-convert {\n",
              "      background-color: #E8F0FE;\n",
              "      border: none;\n",
              "      border-radius: 50%;\n",
              "      cursor: pointer;\n",
              "      display: none;\n",
              "      fill: #1967D2;\n",
              "      height: 32px;\n",
              "      padding: 0 0 0 0;\n",
              "      width: 32px;\n",
              "    }\n",
              "\n",
              "    .colab-df-convert:hover {\n",
              "      background-color: #E2EBFA;\n",
              "      box-shadow: 0px 1px 2px rgba(60, 64, 67, 0.3), 0px 1px 3px 1px rgba(60, 64, 67, 0.15);\n",
              "      fill: #174EA6;\n",
              "    }\n",
              "\n",
              "    [theme=dark] .colab-df-convert {\n",
              "      background-color: #3B4455;\n",
              "      fill: #D2E3FC;\n",
              "    }\n",
              "\n",
              "    [theme=dark] .colab-df-convert:hover {\n",
              "      background-color: #434B5C;\n",
              "      box-shadow: 0px 1px 3px 1px rgba(0, 0, 0, 0.15);\n",
              "      filter: drop-shadow(0px 1px 2px rgba(0, 0, 0, 0.3));\n",
              "      fill: #FFFFFF;\n",
              "    }\n",
              "  </style>\n",
              "\n",
              "      <script>\n",
              "        const buttonEl =\n",
              "          document.querySelector('#df-7e5b10cd-3ba0-4f9b-8040-c26d6f46244f button.colab-df-convert');\n",
              "        buttonEl.style.display =\n",
              "          google.colab.kernel.accessAllowed ? 'block' : 'none';\n",
              "\n",
              "        async function convertToInteractive(key) {\n",
              "          const element = document.querySelector('#df-7e5b10cd-3ba0-4f9b-8040-c26d6f46244f');\n",
              "          const dataTable =\n",
              "            await google.colab.kernel.invokeFunction('convertToInteractive',\n",
              "                                                     [key], {});\n",
              "          if (!dataTable) return;\n",
              "\n",
              "          const docLinkHtml = 'Like what you see? Visit the ' +\n",
              "            '<a target=\"_blank\" href=https://colab.research.google.com/notebooks/data_table.ipynb>data table notebook</a>'\n",
              "            + ' to learn more about interactive tables.';\n",
              "          element.innerHTML = '';\n",
              "          dataTable['output_type'] = 'display_data';\n",
              "          await google.colab.output.renderOutput(dataTable, element);\n",
              "          const docLink = document.createElement('div');\n",
              "          docLink.innerHTML = docLinkHtml;\n",
              "          element.appendChild(docLink);\n",
              "        }\n",
              "      </script>\n",
              "    </div>\n",
              "  </div>\n",
              "  "
            ]
          },
          "metadata": {},
          "execution_count": 136
        }
      ]
    },
    {
      "cell_type": "markdown",
      "source": [
        "**plot positive and negative correlations:**\n",
        "The churn rate increases with frequent flyer and annual income class while age and Hotel booking via app seem to be negatively related to churn. Frequent flyers churn the most."
      ],
      "metadata": {
        "id": "ZA5s1WcR8_Jt"
      }
    },
    {
      "cell_type": "code",
      "source": [
        "correlations = df1.corrwith(df1.Target)\n",
        "correlations = correlations[correlations!=1]\n",
        "correlations.plot.bar(\n",
        "        figsize = (10, 10), \n",
        "        fontsize = 15, \n",
        "        rot = 45, grid = True)\n",
        "plt.title('Correlation with Churn Rate \\n',\n",
        "horizontalalignment=\"center\", fontstyle = \"normal\", \n",
        "fontsize = \"22\", fontfamily = \"sans-serif\")"
      ],
      "metadata": {
        "colab": {
          "base_uri": "https://localhost:8080/",
          "height": 814
        },
        "id": "4Wg1G3HXFe-M",
        "outputId": "fbf508cc-cbb5-4943-da9e-92febd70f74d"
      },
      "execution_count": 137,
      "outputs": [
        {
          "output_type": "execute_result",
          "data": {
            "text/plain": [
              "Text(0.5, 1.0, 'Correlation with Churn Rate \\n')"
            ]
          },
          "metadata": {},
          "execution_count": 137
        },
        {
          "output_type": "display_data",
          "data": {
            "text/plain": [
              "<Figure size 720x720 with 1 Axes>"
            ],
            "image/png": "[encoded data removed]"
          },
          "metadata": {
            "needs_background": "light"
          }
        }
      ]
    },
    {
      "cell_type": "code",
      "source": [
        "travel2 = df1[['Age', 'AnnualIncomeClass','ServicesOpted', 'AccountSyncedToSocialMedia',\n",
        "       'BookedHotelOrNot', 'Target']]\n",
        "correlations = travel2.corrwith(travel.Target)\n",
        "correlations = correlations[correlations!=1]\n",
        "positive_correlations = correlations[\n",
        "correlations >0].sort_values(ascending = False)\n",
        "negative_correlations =correlations[\n",
        "correlations<0].sort_values(ascending = False)\n",
        "print('Most Positive Correlations: \\n', positive_correlations)\n",
        "print('\\nMost Negative Correlations: \\n', negative_correlations)"
      ],
      "metadata": {
        "colab": {
          "base_uri": "https://localhost:8080/"
        },
        "id": "gh_siI28dXti",
        "outputId": "d200083e-1f71-47ec-b308-d37b3f997852"
      },
      "execution_count": 138,
      "outputs": [
        {
          "output_type": "stream",
          "name": "stdout",
          "text": [
            "Most Positive Correlations: \n",
            " AnnualIncomeClass             0.148727\n",
            "AccountSyncedToSocialMedia    0.078608\n",
            "ServicesOpted                 0.045770\n",
            "dtype: float64\n",
            "\n",
            "Most Negative Correlations: \n",
            " Age                -0.136133\n",
            "BookedHotelOrNot   -0.208839\n",
            "dtype: float64\n"
          ]
        }
      ]
    },
    {
      "cell_type": "markdown",
      "source": [
        "####**Negative Correlation Analysis**\n",
        "Further Exploring the relationship between churn and Hotel Booking: Churn is lower in those who booked hotels."
      ],
      "metadata": {
        "id": "c4znZWEe7FdT"
      }
    },
    {
      "cell_type": "code",
      "source": [
        "import matplotlib.ticker as mtick\n",
        "booking_churn = travel.groupby(['BookedHotelOrNot','Target']).size().unstack()\n",
        "booking_churn.rename(columns={0:'No', 1:'Yes'}, inplace=True)\n",
        "colors  = ['#ec838a','#9b9c9a']\n",
        "ax = (booking_churn.T*100.0 / booking_churn.T.sum()).T.plot(kind='bar',width = 0.3,stacked = True,rot = 0,figsize = (12,7),color = colors)\n",
        "plt.ylabel('Proportion of Users\\n',\n",
        "horizontalalignment=\"center\",fontstyle = \"normal\", \n",
        "fontsize = \"large\", fontfamily = \"sans-serif\")\n",
        "plt.xlabel('BookedHotelOrNot\\n',horizontalalignment=\"center\",\n",
        "fontstyle = \"normal\", fontsize = \"large\", \n",
        "fontfamily = \"sans-serif\")\n",
        "plt.title('Churn Rate by BookedHotelOrNot \\n',\n",
        "horizontalalignment=\"center\", fontstyle = \"normal\", \n",
        "fontsize = \"22\", fontfamily = \"sans-serif\")\n",
        "plt.legend(loc='top right', fontsize = \"medium\")\n",
        "plt.xticks(rotation=0, horizontalalignment=\"center\")\n",
        "plt.yticks(rotation=0, horizontalalignment=\"right\")\n",
        "ax.yaxis.set_major_formatter(mtick.PercentFormatter())\n",
        "for p in ax.patches:\n",
        "    width, height = p.get_width(), p.get_height()\n",
        "    x, y = p.get_xy() \n",
        "    ax.text(x+width/2, \n",
        "            y+height/2, \n",
        "            '{:.1f}%'.format(height), \n",
        "            horizontalalignment='center', \n",
        "            verticalalignment='center')\n",
        "ax.autoscale(enable=False, axis='both', tight=False)"
      ],
      "metadata": {
        "colab": {
          "base_uri": "https://localhost:8080/",
          "height": 508
        },
        "id": "ufM5CQzPAU4T",
        "outputId": "1ec0dfc5-1bb2-45ce-ce42-028fabb41262"
      },
      "execution_count": 139,
      "outputs": [
        {
          "output_type": "display_data",
          "data": {
            "text/plain": [
              "<Figure size 864x504 with 1 Axes>"
            ],
            "image/png": "[encoded data removed]"
          },
          "metadata": {
            "needs_background": "light"
          }
        }
      ]
    },
    {
      "cell_type": "markdown",
      "source": [
        "To visualize the negative relationship between age and churn and to see the age distribution of customers who churn.\n",
        "The chart shows that people ages 27 and 28 churn the most."
      ],
      "metadata": {
        "id": "cmF5_heApkjr"
      }
    },
    {
      "cell_type": "code",
      "source": [
        "churn_by_age = travel.groupby(['Age','Target']).size().unstack()\n",
        "churn_by_age.rename(columns={0:'Active', 1:'Churned'}, inplace=True)\n",
        "colors  = ['#ec838a','#9b9c9a']\n",
        "ax = (churn_by_age.T*100.0 / churn_by_age.T.sum()).T.plot(kind='bar',width = 0.3,stacked = True,rot = 0,figsize = (12,7),color = colors)\n",
        "plt.ylabel('Proportion of Users\\n',\n",
        "horizontalalignment=\"center\",fontstyle = \"normal\", \n",
        "fontsize = \"large\", fontfamily = \"sans-serif\")\n",
        "plt.xlabel('AGE\\n',horizontalalignment=\"center\",\n",
        "fontstyle = \"normal\", fontsize = \"large\", \n",
        "fontfamily = \"sans-serif\")\n",
        "plt.title('Churn Rate by Age \\n',\n",
        "horizontalalignment=\"center\", fontstyle = \"normal\", \n",
        "fontsize = \"22\", fontfamily = \"sans-serif\")\n",
        "plt.legend(loc='top right', fontsize = \"medium\")\n",
        "plt.xticks(rotation=0, horizontalalignment=\"center\")\n",
        "plt.yticks(rotation=0, horizontalalignment=\"right\")\n",
        "ax.yaxis.set_major_formatter(mtick.PercentFormatter())\n",
        "for p in ax.patches:\n",
        "    width, height = p.get_width(), p.get_height()\n",
        "    x, y = p.get_xy() \n",
        "    ax.text(x+width/2, \n",
        "            y+height/2, \n",
        "            '{:.1f}%'.format(height), \n",
        "            horizontalalignment='center', \n",
        "            verticalalignment='center')\n",
        "ax.autoscale(enable=False, axis='both', tight=False)"
      ],
      "metadata": {
        "colab": {
          "base_uri": "https://localhost:8080/",
          "height": 508
        },
        "id": "74sE_mAuo10C",
        "outputId": "a891388b-3f91-4da4-a332-a03246d670c5"
      },
      "execution_count": 140,
      "outputs": [
        {
          "output_type": "display_data",
          "data": {
            "text/plain": [
              "<Figure size 864x504 with 1 Axes>"
            ],
            "image/png": "[encoded data removed]"
          },
          "metadata": {
            "needs_background": "light"
          }
        }
      ]
    },
    {
      "cell_type": "markdown",
      "source": [
        "####**Positive Correlation Analysis**\n",
        "**Churn Rate by Annual Income Class:** As shown in the chart below, those with high income have a very high probability to churn compared to those with middle to low income."
      ],
      "metadata": {
        "id": "oeGD5BRn6jKk"
      }
    },
    {
      "cell_type": "code",
      "source": [
        "income_churn = travel.groupby(['AnnualIncomeClass','Target']).size().unstack()\n",
        "income_churn.rename(columns={0:'Active', 1:'Churned'}, inplace=True)\n",
        "colors  = ['#ec838a','#9b9c9a']\n",
        "ax = (income_churn.T*100.0 / income_churn.T.sum()).T.plot(kind='bar',width = 0.3,stacked = True,rot = 0,figsize = (12,7),color = colors)\n",
        "plt.ylabel('Proportion of Users\\n',\n",
        "horizontalalignment=\"center\",fontstyle = \"normal\", \n",
        "fontsize = \"large\", fontfamily = \"sans-serif\")\n",
        "plt.xlabel('Income class\\n',horizontalalignment=\"center\",\n",
        "fontstyle = \"normal\", fontsize = \"large\", \n",
        "fontfamily = \"sans-serif\")\n",
        "plt.title('Churn Rate by Annual Income Class \\n',\n",
        "horizontalalignment=\"center\", fontstyle = \"normal\", \n",
        "fontsize = \"22\", fontfamily = \"sans-serif\")\n",
        "plt.legend(loc='top right', fontsize = \"medium\")\n",
        "plt.xticks(rotation=0, horizontalalignment=\"center\")\n",
        "plt.yticks(rotation=0, horizontalalignment=\"right\")\n",
        "ax.yaxis.set_major_formatter(mtick.PercentFormatter())\n",
        "for p in ax.patches:\n",
        "    width, height = p.get_width(), p.get_height()\n",
        "    x, y = p.get_xy() \n",
        "    ax.text(x+width/2, \n",
        "            y+height/2, \n",
        "            '{:.1f}%'.format(height), \n",
        "            horizontalalignment='center', \n",
        "            verticalalignment='center')\n",
        "ax.autoscale(enable=False, axis='both', tight=False)"
      ],
      "metadata": {
        "colab": {
          "base_uri": "https://localhost:8080/",
          "height": 508
        },
        "id": "YaPxz4u23wxS",
        "outputId": "029d8220-c8f4-4010-d191-e599baf9b69f"
      },
      "execution_count": 141,
      "outputs": [
        {
          "output_type": "display_data",
          "data": {
            "text/plain": [
              "<Figure size 864x504 with 1 Axes>"
            ],
            "image/png": "[encoded data removed]"
          },
          "metadata": {
            "needs_background": "light"
          }
        }
      ]
    },
    {
      "cell_type": "markdown",
      "source": [
        "**Churn Rate by Frequent Flyer Feature:** frequent flyers seem to churn more."
      ],
      "metadata": {
        "id": "tsHtlOQN0qKR"
      }
    },
    {
      "cell_type": "code",
      "source": [
        "Freq_flyer_churn = travel.groupby(['FrequentFlyer','Target']).size().unstack()\n",
        "Freq_flyer_churn.rename(columns={0:'Active', 1:'Churned'}, inplace=True)\n",
        "colors  = ['#ec838a','#9b9c9a']\n",
        "ax = (Freq_flyer_churn.T*100.0 / Freq_flyer_churn.T.sum()).T.plot(kind='bar',width = 0.3,stacked = True,rot = 0,figsize = (12,7),color = colors)\n",
        "plt.ylabel('Proportion of Users\\n',\n",
        "horizontalalignment=\"center\",fontstyle = \"normal\", \n",
        "fontsize = \"large\", fontfamily = \"sans-serif\")\n",
        "plt.xlabel('Frequent Flyer\\n',horizontalalignment=\"center\",\n",
        "fontstyle = \"normal\", fontsize = \"large\", \n",
        "fontfamily = \"sans-serif\")\n",
        "plt.title('Churn Rate by Flyer Frequency \\n',\n",
        "horizontalalignment=\"center\", fontstyle = \"normal\", \n",
        "fontsize = \"22\", fontfamily = \"sans-serif\")\n",
        "plt.legend(loc='top right', fontsize = \"medium\")\n",
        "plt.xticks(rotation=0, horizontalalignment=\"center\")\n",
        "plt.yticks(rotation=0, horizontalalignment=\"right\")\n",
        "ax.yaxis.set_major_formatter(mtick.PercentFormatter())\n",
        "for p in ax.patches:\n",
        "    width, height = p.get_width(), p.get_height()\n",
        "    x, y = p.get_xy() \n",
        "    ax.text(x+width/2, \n",
        "            y+height/2, \n",
        "            '{:.1f}%'.format(height), \n",
        "            horizontalalignment='center', \n",
        "            verticalalignment='center')\n",
        "ax.autoscale(enable=False, axis='both', tight=False)"
      ],
      "metadata": {
        "colab": {
          "base_uri": "https://localhost:8080/",
          "height": 508
        },
        "id": "omTfTK0XiBiZ",
        "outputId": "06b130e0-6e2c-41f2-844a-494e08fcafbf"
      },
      "execution_count": 142,
      "outputs": [
        {
          "output_type": "display_data",
          "data": {
            "text/plain": [
              "<Figure size 864x504 with 1 Axes>"
            ],
            "image/png": "[encoded data removed]"
          },
          "metadata": {
            "needs_background": "light"
          }
        }
      ]
    },
    {
      "cell_type": "markdown",
      "source": [
        "Plot Correlation Matrix of all independent variables: Correlation matrix helps us to discover the relationship between independent variables in a dataset."
      ],
      "metadata": {
        "id": "CNlOXPqxEeh_"
      }
    },
    {
      "cell_type": "code",
      "source": [
        "#visualizing correlation via heatmap\n",
        "df1_no_churn = df1.drop(columns = 'Target')\n",
        "sn.heatmap(df1_no_churn.corr(),annot=True, fmt='1.2f')"
      ],
      "metadata": {
        "colab": {
          "base_uri": "https://localhost:8080/",
          "height": 442
        },
        "id": "FOdRvEZoY_u4",
        "outputId": "601370e5-e70c-4306-c0b9-1cdef481875a"
      },
      "execution_count": 143,
      "outputs": [
        {
          "output_type": "execute_result",
          "data": {
            "text/plain": [
              "<matplotlib.axes._subplots.AxesSubplot at 0x7efd11915490>"
            ]
          },
          "metadata": {},
          "execution_count": 143
        },
        {
          "output_type": "display_data",
          "data": {
            "text/plain": [
              "<Figure size 432x288 with 2 Axes>"
            ],
            "image/png": "[encoded data removed]"
          },
          "metadata": {
            "needs_background": "light"
          }
        }
      ]
    },
    {
      "cell_type": "code",
      "source": [
        "#Set and compute the Correlation Matrix:\n",
        "sn.set(style=\"white\")\n",
        "corr = df1_no_churn.corr()\n",
        "#Generate a mask for the upper triangle:\n",
        "mask = np.zeros_like(corr, dtype=np.bool)\n",
        "mask[np.triu_indices_from(mask)] = True\n",
        "#Set up the matplotlib figure and a diverging colormap:\n",
        "f, ax = plt.subplots(figsize=(18, 15))\n",
        "cmap = sn.diverging_palette(220, 10, as_cmap=True)\n",
        "#Draw the heatmap with the mask and correct aspect ratio:\n",
        "sn.heatmap(corr, mask=mask, cmap=cmap, vmax=.3, center=0,\n",
        "square=True, linewidths=.5, cbar_kws={\"shrink\": .5})"
      ],
      "metadata": {
        "colab": {
          "base_uri": "https://localhost:8080/",
          "height": 871
        },
        "id": "lvSmQ8emEgt0",
        "outputId": "5165185c-b921-4042-c25a-5b8fc4553b4e"
      },
      "execution_count": 144,
      "outputs": [
        {
          "output_type": "execute_result",
          "data": {
            "text/plain": [
              "<matplotlib.axes._subplots.AxesSubplot at 0x7efd10c02910>"
            ]
          },
          "metadata": {},
          "execution_count": 144
        },
        {
          "output_type": "display_data",
          "data": {
            "text/plain": [
              "<Figure size 1296x1080 with 2 Axes>"
            ],
            "image/png": "[encoded data removed]"
          },
          "metadata": {}
        }
      ]
    },
    {
      "cell_type": "markdown",
      "source": [
        "**Check Multicollinearity using VIF**: VIF determines the strength of the correlation of a variable with a group of other independent variables in a dataset. Anywhere exceeding 10 indicates high multicollinearity between the independent variables. If 2 variables have high multicollinearity between them one might have to be dropped."
      ],
      "metadata": {
        "id": "g-0CWGkvKkv4"
      }
    },
    {
      "cell_type": "markdown",
      "source": [
        "We can see that none of our features have a high VIF value. Nothing needs to be dropped."
      ],
      "metadata": {
        "id": "A9UtDS98UwCO"
      }
    },
    {
      "cell_type": "code",
      "source": [
        "#viewing column namesto use below\n",
        "list(df1)"
      ],
      "metadata": {
        "colab": {
          "base_uri": "https://localhost:8080/"
        },
        "id": "ZcnL4jItOnBz",
        "outputId": "8940483a-ff71-44fc-c56f-5f23f54c829a"
      },
      "execution_count": 145,
      "outputs": [
        {
          "output_type": "execute_result",
          "data": {
            "text/plain": [
              "['Age',\n",
              " 'FrequentFlyer',\n",
              " 'AnnualIncomeClass',\n",
              " 'ServicesOpted',\n",
              " 'AccountSyncedToSocialMedia',\n",
              " 'BookedHotelOrNot',\n",
              " 'Target']"
            ]
          },
          "metadata": {},
          "execution_count": 145
        }
      ]
    },
    {
      "cell_type": "code",
      "source": [
        "from statsmodels.stats.outliers_influence import variance_inflation_factor\n",
        "  \n",
        "# the independent variables set\n",
        "X = df1[['Age','FrequentFlyer','AnnualIncomeClass', 'ServicesOpted','AccountSyncedToSocialMedia','BookedHotelOrNot']]\n",
        "  \n",
        "# VIF dataframe\n",
        "vif_data = pd.DataFrame()\n",
        "vif_data[\"feature\"] = X.columns\n",
        "  \n",
        "# calculating VIF for each feature\n",
        "vif_data[\"VIF\"] = [variance_inflation_factor(X.values, i)\n",
        "                          for i in range(len(X.columns))]\n",
        "  \n",
        "print(vif_data)"
      ],
      "metadata": {
        "colab": {
          "base_uri": "https://localhost:8080/"
        },
        "id": "yc3cMi6QKnnP",
        "outputId": "e32dbc14-ab4a-4f82-ea63-a423d0cac095"
      },
      "execution_count": 146,
      "outputs": [
        {
          "output_type": "stream",
          "name": "stdout",
          "text": [
            "                      feature       VIF\n",
            "0                         Age  6.559596\n",
            "1               FrequentFlyer  1.782352\n",
            "2           AnnualIncomeClass  2.469295\n",
            "3               ServicesOpted  3.470530\n",
            "4  AccountSyncedToSocialMedia  1.687552\n",
            "5            BookedHotelOrNot  1.766477\n"
          ]
        }
      ]
    },
    {
      "cell_type": "markdown",
      "source": [
        "####**EDA Summary**\n",
        "\n",
        "\n",
        "*   There were 60 missing values in our data that were dropped\n",
        "*   The data has a higher proportion of active users than users who churn\n",
        "\n",
        "\n",
        "*   The strongest positive correlation with the target features is with frequent flyer and income class. This is a group to focus one.\n",
        "\n",
        "*   The strongest negative correlation with the target features is with age and accounts synched to social media\n",
        "*   Those with higher income tend to churn more\n",
        "\n",
        "\n",
        "*   There is no multicollinearity between any of the features\n",
        "\n",
        "\n",
        "*   The age range is between 27 and 38 years old with most of the customers being 30 years old.\n",
        "*   27 and 28 year olds churn the most\n",
        "\n",
        "\n",
        "*   Frequent flyers churned the most in recent years\n",
        "\n",
        "\n",
        "\n",
        "\n",
        "\n",
        "\n",
        "\n",
        "\n"
      ],
      "metadata": {
        "id": "l0AeJNAqVFZw"
      }
    },
    {
      "cell_type": "code",
      "source": [
        "#taking another look at our data\n",
        "df1"
      ],
      "metadata": {
        "colab": {
          "base_uri": "https://localhost:8080/",
          "height": 0
        },
        "id": "blI52RBPCxto",
        "outputId": "9f7ccb28-c422-4fe6-e346-4a3ebcc6a932"
      },
      "execution_count": 147,
      "outputs": [
        {
          "output_type": "execute_result",
          "data": {
            "text/plain": [
              "     Age  FrequentFlyer  AnnualIncomeClass  ServicesOpted  \\\n",
              "0     34              0                  1              6   \n",
              "1     34              1                  0              5   \n",
              "2     37              0                  1              3   \n",
              "3     30              0                  1              2   \n",
              "4     30              0                  0              1   \n",
              "..   ...            ...                ...            ...   \n",
              "949   31              1                  0              1   \n",
              "950   30              0                  1              5   \n",
              "951   37              0                  1              4   \n",
              "952   30              0                  0              1   \n",
              "953   31              1                  2              1   \n",
              "\n",
              "     AccountSyncedToSocialMedia  BookedHotelOrNot  Target  \n",
              "0                             0                 1       0  \n",
              "1                             1                 0       1  \n",
              "2                             1                 0       0  \n",
              "3                             0                 0       0  \n",
              "4                             0                 0       0  \n",
              "..                          ...               ...     ...  \n",
              "949                           0                 0       0  \n",
              "950                           0                 1       0  \n",
              "951                           0                 0       0  \n",
              "952                           1                 1       0  \n",
              "953                           0                 0       0  \n",
              "\n",
              "[894 rows x 7 columns]"
            ],
            "text/html": [
              "\n",
              "  <div id=\"df-e5c8baab-0097-426c-9470-51a8e5f7c5ae\">\n",
              "    <div class=\"colab-df-container\">\n",
              "      <div>\n",
              "<style scoped>\n",
              "    .dataframe tbody tr th:only-of-type {\n",
              "        vertical-align: middle;\n",
              "    }\n",
              "\n",
              "    .dataframe tbody tr th {\n",
              "        vertical-align: top;\n",
              "    }\n",
              "\n",
              "    .dataframe thead th {\n",
              "        text-align: right;\n",
              "    }\n",
              "</style>\n",
              "<table border=\"1\" class=\"dataframe\">\n",
              "  <thead>\n",
              "    <tr style=\"text-align: right;\">\n",
              "      <th></th>\n",
              "      <th>Age</th>\n",
              "      <th>FrequentFlyer</th>\n",
              "      <th>AnnualIncomeClass</th>\n",
              "      <th>ServicesOpted</th>\n",
              "      <th>AccountSyncedToSocialMedia</th>\n",
              "      <th>BookedHotelOrNot</th>\n",
              "      <th>Target</th>\n",
              "    </tr>\n",
              "  </thead>\n",
              "  <tbody>\n",
              "    <tr>\n",
              "      <th>0</th>\n",
              "      <td>34</td>\n",
              "      <td>0</td>\n",
              "      <td>1</td>\n",
              "      <td>6</td>\n",
              "      <td>0</td>\n",
              "      <td>1</td>\n",
              "      <td>0</td>\n",
              "    </tr>\n",
              "    <tr>\n",
              "      <th>1</th>\n",
              "      <td>34</td>\n",
              "      <td>1</td>\n",
              "      <td>0</td>\n",
              "      <td>5</td>\n",
              "      <td>1</td>\n",
              "      <td>0</td>\n",
              "      <td>1</td>\n",
              "    </tr>\n",
              "    <tr>\n",
              "      <th>2</th>\n",
              "      <td>37</td>\n",
              "      <td>0</td>\n",
              "      <td>1</td>\n",
              "      <td>3</td>\n",
              "      <td>1</td>\n",
              "      <td>0</td>\n",
              "      <td>0</td>\n",
              "    </tr>\n",
              "    <tr>\n",
              "      <th>3</th>\n",
              "      <td>30</td>\n",
              "      <td>0</td>\n",
              "      <td>1</td>\n",
              "      <td>2</td>\n",
              "      <td>0</td>\n",
              "      <td>0</td>\n",
              "      <td>0</td>\n",
              "    </tr>\n",
              "    <tr>\n",
              "      <th>4</th>\n",
              "      <td>30</td>\n",
              "      <td>0</td>\n",
              "      <td>0</td>\n",
              "      <td>1</td>\n",
              "      <td>0</td>\n",
              "      <td>0</td>\n",
              "      <td>0</td>\n",
              "    </tr>\n",
              "    <tr>\n",
              "      <th>...</th>\n",
              "      <td>...</td>\n",
              "      <td>...</td>\n",
              "      <td>...</td>\n",
              "      <td>...</td>\n",
              "      <td>...</td>\n",
              "      <td>...</td>\n",
              "      <td>...</td>\n",
              "    </tr>\n",
              "    <tr>\n",
              "      <th>949</th>\n",
              "      <td>31</td>\n",
              "      <td>1</td>\n",
              "      <td>0</td>\n",
              "      <td>1</td>\n",
              "      <td>0</td>\n",
              "      <td>0</td>\n",
              "      <td>0</td>\n",
              "    </tr>\n",
              "    <tr>\n",
              "      <th>950</th>\n",
              "      <td>30</td>\n",
              "      <td>0</td>\n",
              "      <td>1</td>\n",
              "      <td>5</td>\n",
              "      <td>0</td>\n",
              "      <td>1</td>\n",
              "      <td>0</td>\n",
              "    </tr>\n",
              "    <tr>\n",
              "      <th>951</th>\n",
              "      <td>37</td>\n",
              "      <td>0</td>\n",
              "      <td>1</td>\n",
              "      <td>4</td>\n",
              "      <td>0</td>\n",
              "      <td>0</td>\n",
              "      <td>0</td>\n",
              "    </tr>\n",
              "    <tr>\n",
              "      <th>952</th>\n",
              "      <td>30</td>\n",
              "      <td>0</td>\n",
              "      <td>0</td>\n",
              "      <td>1</td>\n",
              "      <td>1</td>\n",
              "      <td>1</td>\n",
              "      <td>0</td>\n",
              "    </tr>\n",
              "    <tr>\n",
              "      <th>953</th>\n",
              "      <td>31</td>\n",
              "      <td>1</td>\n",
              "      <td>2</td>\n",
              "      <td>1</td>\n",
              "      <td>0</td>\n",
              "      <td>0</td>\n",
              "      <td>0</td>\n",
              "    </tr>\n",
              "  </tbody>\n",
              "</table>\n",
              "<p>894 rows × 7 columns</p>\n",
              "</div>\n",
              "      <button class=\"colab-df-convert\" onclick=\"convertToInteractive('df-e5c8baab-0097-426c-9470-51a8e5f7c5ae')\"\n",
              "              title=\"Convert this dataframe to an interactive table.\"\n",
              "              style=\"display:none;\">\n",
              "        \n",
              "  <svg xmlns=\"http://www.w3.org/2000/svg\" height=\"24px\"viewBox=\"0 0 24 24\"\n",
              "       width=\"24px\">\n",
              "    <path d=\"M0 0h24v24H0V0z\" fill=\"none\"/>\n",
              "    <path d=\"M18.56 5.44l.94 2.06.94-2.06 2.06-.94-2.06-.94-.94-2.06-.94 2.06-2.06.94zm-11 1L8.5 8.5l.94-2.06 2.06-.94-2.06-.94L8.5 2.5l-.94 2.06-2.06.94zm10 10l.94 2.06.94-2.06 2.06-.94-2.06-.94-.94-2.06-.94 2.06-2.06.94z\"/><path d=\"M17.41 7.96l-1.37-1.37c-.4-.4-.92-.59-1.43-.59-.52 0-1.04.2-1.43.59L10.3 9.45l-7.72 7.72c-.78.78-.78 2.05 0 2.83L4 21.41c.39.39.9.59 1.41.59.51 0 1.02-.2 1.41-.59l7.78-7.78 2.81-2.81c.8-.78.8-2.07 0-2.86zM5.41 20L4 18.59l7.72-7.72 1.47 1.35L5.41 20z\"/>\n",
              "  </svg>\n",
              "      </button>\n",
              "      \n",
              "  <style>\n",
              "    .colab-df-container {\n",
              "      display:flex;\n",
              "      flex-wrap:wrap;\n",
              "      gap: 12px;\n",
              "    }\n",
              "\n",
              "    .colab-df-convert {\n",
              "      background-color: #E8F0FE;\n",
              "      border: none;\n",
              "      border-radius: 50%;\n",
              "      cursor: pointer;\n",
              "      display: none;\n",
              "      fill: #1967D2;\n",
              "      height: 32px;\n",
              "      padding: 0 0 0 0;\n",
              "      width: 32px;\n",
              "    }\n",
              "\n",
              "    .colab-df-convert:hover {\n",
              "      background-color: #E2EBFA;\n",
              "      box-shadow: 0px 1px 2px rgba(60, 64, 67, 0.3), 0px 1px 3px 1px rgba(60, 64, 67, 0.15);\n",
              "      fill: #174EA6;\n",
              "    }\n",
              "\n",
              "    [theme=dark] .colab-df-convert {\n",
              "      background-color: #3B4455;\n",
              "      fill: #D2E3FC;\n",
              "    }\n",
              "\n",
              "    [theme=dark] .colab-df-convert:hover {\n",
              "      background-color: #434B5C;\n",
              "      box-shadow: 0px 1px 3px 1px rgba(0, 0, 0, 0.15);\n",
              "      filter: drop-shadow(0px 1px 2px rgba(0, 0, 0, 0.3));\n",
              "      fill: #FFFFFF;\n",
              "    }\n",
              "  </style>\n",
              "\n",
              "      <script>\n",
              "        const buttonEl =\n",
              "          document.querySelector('#df-e5c8baab-0097-426c-9470-51a8e5f7c5ae button.colab-df-convert');\n",
              "        buttonEl.style.display =\n",
              "          google.colab.kernel.accessAllowed ? 'block' : 'none';\n",
              "\n",
              "        async function convertToInteractive(key) {\n",
              "          const element = document.querySelector('#df-e5c8baab-0097-426c-9470-51a8e5f7c5ae');\n",
              "          const dataTable =\n",
              "            await google.colab.kernel.invokeFunction('convertToInteractive',\n",
              "                                                     [key], {});\n",
              "          if (!dataTable) return;\n",
              "\n",
              "          const docLinkHtml = 'Like what you see? Visit the ' +\n",
              "            '<a target=\"_blank\" href=https://colab.research.google.com/notebooks/data_table.ipynb>data table notebook</a>'\n",
              "            + ' to learn more about interactive tables.';\n",
              "          element.innerHTML = '';\n",
              "          dataTable['output_type'] = 'display_data';\n",
              "          await google.colab.output.renderOutput(dataTable, element);\n",
              "          const docLink = document.createElement('div');\n",
              "          docLink.innerHTML = docLinkHtml;\n",
              "          element.appendChild(docLink);\n",
              "        }\n",
              "      </script>\n",
              "    </div>\n",
              "  </div>\n",
              "  "
            ]
          },
          "metadata": {},
          "execution_count": 147
        }
      ]
    },
    {
      "cell_type": "markdown",
      "source": [
        "####**Step 3: Machine learning**\n",
        "The goal of our machine learning model is to predict Churn (label=1) vs Active (label=0) based on the our features."
      ],
      "metadata": {
        "id": "injiKF_XHzF_"
      }
    },
    {
      "cell_type": "markdown",
      "source": [
        "Splitting the dataset into dependent and independent variables: \n",
        "Now we need to separate the dataset into X and y values. y would be the Target column whilst X would be the remaining list of independent variables in the dataset."
      ],
      "metadata": {
        "id": "kfUVmGuTCPKV"
      }
    },
    {
      "cell_type": "code",
      "source": [
        "#Identify response variable:\n",
        "    \n",
        "response = df1[\"Target\"]\n",
        "features = df1.drop(columns=\"Target\")"
      ],
      "metadata": {
        "id": "CGflIoWKCJmG"
      },
      "execution_count": 148,
      "outputs": []
    },
    {
      "cell_type": "markdown",
      "source": [
        "**Train-Test Split**\n",
        "\n",
        "splitting our dataset in 80–20 ratio for training and testing"
      ],
      "metadata": {
        "id": "SxITUz2uIlnu"
      }
    },
    {
      "cell_type": "code",
      "source": [
        "X_train, X_test, y_train, y_test = train_test_split(features, response,stratify=response, test_size = 0.2, random_state = 0)\n",
        "#to resolve any class imbalance - use stratify parameter.\n",
        "print(\"Number transactions X_train dataset: \", X_train.shape)\n",
        "print(\"Number transactions y_train dataset: \", y_train.shape)\n",
        "print(\"Number transactions X_test dataset: \", X_test.shape)\n",
        "print(\"Number transactions y_test dataset: \", y_test.shape)"
      ],
      "metadata": {
        "colab": {
          "base_uri": "https://localhost:8080/"
        },
        "id": "Z6iJPIGmDDUC",
        "outputId": "76bea44b-c756-44c9-8dd1-1dd26dddc2b2"
      },
      "execution_count": 149,
      "outputs": [
        {
          "output_type": "stream",
          "name": "stdout",
          "text": [
            "Number transactions X_train dataset:  (715, 6)\n",
            "Number transactions y_train dataset:  (715,)\n",
            "Number transactions X_test dataset:  (179, 6)\n",
            "Number transactions y_test dataset:  (179,)\n"
          ]
        }
      ]
    },
    {
      "cell_type": "markdown",
      "source": [
        "####**Feature Scaling**\n",
        "Normalizing the variables before conducting any machine learning (classification) algorithms so that all the training and test variables are scaled within a range of 0 to 1"
      ],
      "metadata": {
        "id": "449A5_OkGsaX"
      }
    },
    {
      "cell_type": "code",
      "source": [
        "sc_X = StandardScaler()\n",
        "X_train2 = pd.DataFrame(sc_X.fit_transform(X_train))\n",
        "X_train2.columns = X_train.columns.values\n",
        "X_train2.index = X_train.index.values\n",
        "X_train = X_train2\n",
        "X_test2 = pd.DataFrame(sc_X.transform(X_test))\n",
        "X_test2.columns = X_test.columns.values\n",
        "X_test2.index = X_test.index.values\n",
        "X_test = X_test2"
      ],
      "metadata": {
        "id": "kR0Vu0CoGafV"
      },
      "execution_count": 150,
      "outputs": []
    },
    {
      "cell_type": "markdown",
      "source": [
        "#**Model Selection**"
      ],
      "metadata": {
        "id": "2ow8WcDUG98r"
      }
    },
    {
      "cell_type": "markdown",
      "source": [
        "**Compare Baseline Classification Algorithms:** modeling each classification algorithm over the training dataset and evaluate their accuracy and standard deviation scores."
      ],
      "metadata": {
        "id": "Cloi-1ibIDo9"
      }
    },
    {
      "cell_type": "markdown",
      "source": [
        "Gradient Boosting seems to be the best models based on the loss log and accuracy scores. "
      ],
      "metadata": {
        "id": "lCF3YP5lfo-_"
      }
    },
    {
      "cell_type": "code",
      "source": [
        "#prepare models\n",
        "classifiers = [\n",
        "    KNeighborsClassifier(n_neighbors = 5),\n",
        "    SVC(kernel = 'linear', gamma = 'auto', C = 5, probability = True), \n",
        "    LinearSVC(),\n",
        "    DecisionTreeClassifier(max_depth = 3),\n",
        "    RandomForestClassifier(random_state = 1, max_features = 'sqrt', n_jobs = 1, verbose = 1),\n",
        "    XGBClassifier(),\n",
        "    AdaBoostClassifier(),\n",
        "    GradientBoostingClassifier(),\n",
        "    GaussianNB(),\n",
        "    LinearDiscriminantAnalysis(),\n",
        "    QuadraticDiscriminantAnalysis(),\n",
        "    LogisticRegression()]\n",
        "  "
      ],
      "metadata": {
        "id": "8Mi6qIVtur-A"
      },
      "execution_count": 151,
      "outputs": []
    },
    {
      "cell_type": "code",
      "source": [
        "log_cols=[\"Classifier\", \"Accuracy\", \"Log Loss\"]\n",
        "log = pd.DataFrame(columns = log_cols)\n",
        "\n",
        "for clf in classifiers:\n",
        "    clf.fit(X_train, y_train)\n",
        "    name = clf.__class__.__name__\n",
        "    print(\"=\" * 30)\n",
        "    print(name)\n",
        "    print('****Results****')\n",
        "    \n",
        "    train_predictions = clf.predict(X_test)\n",
        "    acc = accuracy_score(y_test, train_predictions)\n",
        "    print(\"Accuracy: {:.4%}\".format(acc))\n",
        "    \n",
        "    train_predictions = clf.predict(X_test)\n",
        "    ll = log_loss(y_test, train_predictions)\n",
        "    print(\"Log Loss: {}\".format(ll))\n",
        "    print(\"\\n\")\n",
        "    \n",
        "    log_entry = pd.DataFrame([[name, acc * 100, ll]], columns = log_cols)\n",
        "    log = log.append(log_entry)\n",
        "    \n",
        "print(\"=\" * 30)"
      ],
      "metadata": {
        "colab": {
          "base_uri": "https://localhost:8080/"
        },
        "id": "vTvtFeNcwHNl",
        "outputId": "fa2b1294-7ea5-43f4-d84c-0abbe66e877b"
      },
      "execution_count": 152,
      "outputs": [
        {
          "output_type": "stream",
          "name": "stdout",
          "text": [
            "==============================\n",
            "KNeighborsClassifier\n",
            "****Results****\n",
            "Accuracy: 87.1508%\n",
            "Log Loss: 4.437956736733164\n",
            "\n",
            "\n",
            "==============================\n",
            "SVC\n",
            "****Results****\n",
            "Accuracy: 82.6816%\n",
            "Log Loss: 5.981616003458677\n",
            "\n",
            "\n",
            "==============================\n",
            "LinearSVC\n",
            "****Results****\n",
            "Accuracy: 81.5642%\n",
            "Log Loss: 6.3675196525781805\n",
            "\n",
            "\n",
            "==============================\n",
            "DecisionTreeClassifier\n",
            "****Results****\n",
            "Accuracy: 82.6816%\n",
            "Log Loss: 5.981611536433926\n",
            "\n",
            "\n",
            "==============================\n",
            "RandomForestClassifier\n",
            "****Results****\n",
            "Accuracy: 90.5028%\n",
            "Log Loss: 3.2802279212756544\n",
            "\n",
            "\n",
            "==============================\n",
            "XGBClassifier\n",
            "****Results****\n",
            "Accuracy: 89.9441%\n",
            "Log Loss: 3.473173045298282\n",
            "\n",
            "\n"
          ]
        },
        {
          "output_type": "stream",
          "name": "stderr",
          "text": [
            "[Parallel(n_jobs=1)]: Using backend SequentialBackend with 1 concurrent workers.\n",
            "[Parallel(n_jobs=1)]: Done 100 out of 100 | elapsed:    0.1s finished\n",
            "[Parallel(n_jobs=1)]: Using backend SequentialBackend with 1 concurrent workers.\n",
            "[Parallel(n_jobs=1)]: Done 100 out of 100 | elapsed:    0.0s finished\n",
            "[Parallel(n_jobs=1)]: Using backend SequentialBackend with 1 concurrent workers.\n",
            "[Parallel(n_jobs=1)]: Done 100 out of 100 | elapsed:    0.0s finished\n"
          ]
        },
        {
          "output_type": "stream",
          "name": "stdout",
          "text": [
            "==============================\n",
            "AdaBoostClassifier\n",
            "****Results****\n",
            "Accuracy: 82.6816%\n",
            "Log Loss: 5.981620470483425\n",
            "\n",
            "\n",
            "==============================\n",
            "GradientBoostingClassifier\n",
            "****Results****\n",
            "Accuracy: 92.7374%\n",
            "Log Loss: 2.5084027549376486\n",
            "\n",
            "\n",
            "==============================\n",
            "GaussianNB\n",
            "****Results****\n",
            "Accuracy: 81.0056%\n",
            "Log Loss: 6.560513913873054\n",
            "\n",
            "\n",
            "==============================\n",
            "LinearDiscriminantAnalysis\n",
            "****Results****\n",
            "Accuracy: 82.1229%\n",
            "Log Loss: 6.174578995580302\n",
            "\n",
            "\n",
            "==============================\n",
            "QuadraticDiscriminantAnalysis\n",
            "****Results****\n",
            "Accuracy: 86.5922%\n",
            "Log Loss: 4.630915261830041\n",
            "\n",
            "\n",
            "==============================\n",
            "LogisticRegression\n",
            "****Results****\n",
            "Accuracy: 81.0056%\n",
            "Log Loss: 6.560478177675057\n",
            "\n",
            "\n",
            "==============================\n"
          ]
        }
      ]
    },
    {
      "cell_type": "code",
      "source": [
        "#visualize accuracy models\n",
        "plt.figure(figsize = (10,6))\n",
        "sn.set_color_codes(\"muted\")\n",
        "sn.barplot(x = 'Accuracy', y = 'Classifier', data = log, color = \"red\")\n",
        "plt.xlabel('Accuracy %')\n",
        "plt.title('Accuracy of Classification Model')\n",
        "plt.show()\n",
        "sn.set_color_codes(\"muted\")\n",
        "plt.show()\n"
      ],
      "metadata": {
        "colab": {
          "base_uri": "https://localhost:8080/",
          "height": 410
        },
        "id": "HkzGeoHiU2Ob",
        "outputId": "c94827f1-7369-44c4-ee39-89fd46a7c47f"
      },
      "execution_count": 153,
      "outputs": [
        {
          "output_type": "display_data",
          "data": {
            "text/plain": [
              "<Figure size 720x432 with 1 Axes>"
            ],
            "image/png": "[encoded data removed]"
          },
          "metadata": {}
        }
      ]
    },
    {
      "cell_type": "code",
      "source": [
        "#visualize log loss models\n",
        "plt.figure(figsize = (10,6))\n",
        "sn.barplot(x = 'Log Loss', y = 'Classifier', data = log, color = \"blue\")\n",
        "plt.xlabel('Log Loss')\n",
        "plt.title('Log Loss of Classification Model')\n",
        "plt.show()"
      ],
      "metadata": {
        "colab": {
          "base_uri": "https://localhost:8080/",
          "height": 410
        },
        "id": "7y8HpjIs2dUM",
        "outputId": "6479ea15-aeb7-4fb2-9f85-70309dadc89f"
      },
      "execution_count": 154,
      "outputs": [
        {
          "output_type": "display_data",
          "data": {
            "text/plain": [
              "<Figure size 720x432 with 1 Axes>"
            ],
            "image/png": "[encoded data removed]"
          },
          "metadata": {}
        }
      ]
    },
    {
      "cell_type": "markdown",
      "source": [
        "####**GradientBoosting Classifier**\n"
      ],
      "metadata": {
        "id": "zpY3fbwJwiYA"
      }
    },
    {
      "cell_type": "code",
      "source": [
        "GradientBoostingClassifier\n",
        "# Fitting GradientBoostingClassifier to the Training set\n",
        "classifier = GradientBoostingClassifier(random_state = 0)\n",
        "classifier.fit(X_train, y_train)\n",
        "# Predicting the Test set results\n",
        "y_pred = classifier.predict(X_test)\n",
        "#Evaluate results\n",
        "acc = accuracy_score(y_test, y_pred )\n",
        "prec = precision_score(y_test, y_pred )\n",
        "rec = recall_score(y_test, y_pred )\n",
        "f1 = f1_score(y_test, y_pred )\n",
        "f2 = fbeta_score(y_test, y_pred, beta=2.0)\n",
        "results = pd.DataFrame([['GradientBoosting', \n",
        "acc, prec, rec, f1, f2]], columns = ['Model', \n",
        "'Accuracy', 'Precision', 'Recall', 'F1 Score', \n",
        "'F2 Score'])\n",
        "results = results.sort_values([\"Precision\", \n",
        "\"Recall\", \"F2 Score\"], ascending = False)\n",
        "print (results)"
      ],
      "metadata": {
        "colab": {
          "base_uri": "https://localhost:8080/"
        },
        "id": "CgpoH_Amru74",
        "outputId": "1b4cfbc2-e44e-4e90-a307-77927f65b7c2"
      },
      "execution_count": 155,
      "outputs": [
        {
          "output_type": "stream",
          "name": "stdout",
          "text": [
            "              Model  Accuracy  Precision    Recall  F1 Score  F2 Score\n",
            "0  GradientBoosting  0.927374        1.0  0.697674  0.821918  0.742574\n"
          ]
        }
      ]
    },
    {
      "cell_type": "markdown",
      "source": [
        "####**RANDOM FOREST**"
      ],
      "metadata": {
        "id": "OfO8U5Mnnvw2"
      }
    },
    {
      "cell_type": "code",
      "source": [
        "# Fitting RandomForestClassifier to the Training set:\n",
        "classifier = RandomForestClassifier()\n",
        "classifier.fit(X_train, y_train)\n",
        "# Predicting the Test set results \n",
        "y_pred = classifier.predict(X_test)\n",
        "#Evaluate results\n",
        "acc = accuracy_score(y_test, y_pred )\n",
        "prec = precision_score(y_test, y_pred )\n",
        "rec = recall_score(y_test, y_pred )\n",
        "f1 = f1_score(y_test, y_pred )\n",
        "f2 = fbeta_score(y_test, y_pred, beta=2.0)\n",
        "model_results = pd.DataFrame([[\n",
        "'Random Forest', acc, prec, rec, f1, f2]],\n",
        "columns = ['Model', 'Accuracy', 'Precision',\n",
        "'Recall', 'F1 Score', 'F2 Score'])\n",
        "results = results.append(model_results, ignore_index = True)\n",
        "results = results.sort_values([\"Precision\", \n",
        "\"Recall\", \"F2 Score\"], ascending = False)\n",
        "print (results)"
      ],
      "metadata": {
        "colab": {
          "base_uri": "https://localhost:8080/"
        },
        "id": "8my1iwBqaSX4",
        "outputId": "7fd6c53b-cb08-4135-f81d-8c4644eb6070"
      },
      "execution_count": 156,
      "outputs": [
        {
          "output_type": "stream",
          "name": "stdout",
          "text": [
            "              Model  Accuracy  Precision    Recall  F1 Score  F2 Score\n",
            "0  GradientBoosting  0.927374   1.000000  0.697674  0.821918  0.742574\n",
            "1     Random Forest  0.910615   0.909091  0.697674  0.789474  0.731707\n"
          ]
        }
      ]
    },
    {
      "cell_type": "markdown",
      "source": [
        "####**XGBClassifier**"
      ],
      "metadata": {
        "id": "D61ECjm8kIg_"
      }
    },
    {
      "cell_type": "code",
      "source": [
        "# Fitting XGBClassifier to the Training set:\n",
        "classifier = XGBClassifier(random_state = 0)\n",
        "classifier.fit(X_train, y_train)\n",
        "# Predicting the Test set results \n",
        "y_pred = classifier.predict(X_test)\n",
        "#Evaluate results\n",
        "acc = accuracy_score(y_test, y_pred )\n",
        "prec = precision_score(y_test, y_pred )\n",
        "rec = recall_score(y_test, y_pred )\n",
        "f1 = f1_score(y_test, y_pred )\n",
        "f2 = fbeta_score(y_test, y_pred, beta=2.0)\n",
        "model_results = pd.DataFrame([[\n",
        "'XGBClassifier', acc, prec, rec, f1, f2]],\n",
        " columns = ['Model', 'Accuracy', 'Precision', \n",
        "'Recall', 'F1 Score', 'F2 Score'])\n",
        "results = results.append(model_results, ignore_index = True)\n",
        "results = results.sort_values([\"Precision\", \n",
        "\"Recall\", \"F2 Score\"], ascending = False)\n",
        "print (results)"
      ],
      "metadata": {
        "colab": {
          "base_uri": "https://localhost:8080/"
        },
        "id": "AdZ2KfaObPBK",
        "outputId": "b923070a-d949-475c-c96d-8d9edb6543cf"
      },
      "execution_count": 157,
      "outputs": [
        {
          "output_type": "stream",
          "name": "stdout",
          "text": [
            "              Model  Accuracy  Precision    Recall  F1 Score  F2 Score\n",
            "0  GradientBoosting  0.927374   1.000000  0.697674  0.821918  0.742574\n",
            "2     XGBClassifier  0.899441   1.000000  0.581395  0.735294  0.634518\n",
            "1     Random Forest  0.910615   0.909091  0.697674  0.789474  0.731707\n"
          ]
        }
      ]
    },
    {
      "cell_type": "markdown",
      "source": [
        "####**KNeighbors**\n",
        "finding the best parameters\n",
        "\n",
        "Performing a grib search to find the best parameters for the KNeighbors classifier. From the below, 1 n_neighbors and uniform weights are the best parameters."
      ],
      "metadata": {
        "id": "dfgF5JQWZeQX"
      }
    },
    {
      "cell_type": "code",
      "source": [
        "# -----\n",
        "# KNeighbors Classifier GridSearch\n",
        "# -----\n",
        "\n",
        "param_grid={'n_neighbors': [1, 2, 3, 4, 5],\n",
        "            'weights': ['uniform', 'distance']\n",
        "                          },\n",
        "grid_search_cv = GridSearchCV(KNeighborsClassifier(),\n",
        "                              param_grid, verbose = 1, cv = 3, n_jobs = -1)\n",
        "\n",
        "grid_search_cv.fit(X_train, y_train)\n",
        "\n",
        "print(\"The best Parameters are: \",grid_search_cv.best_params_)"
      ],
      "metadata": {
        "colab": {
          "base_uri": "https://localhost:8080/"
        },
        "id": "3aCNk55nbRQ-",
        "outputId": "4613e7fa-2792-4afc-c9e9-72b95ea514c3"
      },
      "execution_count": 158,
      "outputs": [
        {
          "output_type": "stream",
          "name": "stdout",
          "text": [
            "Fitting 3 folds for each of 10 candidates, totalling 30 fits\n",
            "The best Parameters are:  {'n_neighbors': 1, 'weights': 'uniform'}\n"
          ]
        }
      ]
    },
    {
      "cell_type": "code",
      "source": [
        "score_array = []\n",
        "for each in range(1,25):\n",
        "    knn_loop = KNeighborsClassifier(n_neighbors = each) \n",
        "#set K neighbor as 3\n",
        "    knn_loop.fit(X_train,y_train)\n",
        "    score_array.append(knn_loop.score(X_test,y_test))\n",
        "fig = plt.figure(figsize=(15, 7))\n",
        "plt.plot(range(1,25),score_array, color = '#ec838a')\n",
        "plt.ylabel('Range\\n',horizontalalignment=\"center\",\n",
        "fontstyle = \"normal\", fontsize = \"large\", \n",
        "fontfamily = \"sans-serif\")\n",
        "plt.xlabel('Score\\n',horizontalalignment=\"center\",\n",
        "fontstyle = \"normal\", fontsize = \"large\", \n",
        "fontfamily = \"sans-serif\")\n",
        "plt.title('Optimal Number of K Neighbors \\n',\n",
        "horizontalalignment=\"center\", fontstyle = \"normal\",\n",
        " fontsize = \"22\", fontfamily = \"sans-serif\")\n",
        "#plt.legend(loc='top right', fontsize = \"medium\")\n",
        "plt.xticks(rotation=0, horizontalalignment=\"center\")\n",
        "plt.yticks(rotation=0, horizontalalignment=\"right\")\n",
        "plt.show()"
      ],
      "metadata": {
        "colab": {
          "base_uri": "https://localhost:8080/",
          "height": 510
        },
        "id": "ZcA_4ASzZ5oG",
        "outputId": "6123bff1-eb5e-4f42-cfa0-3bf862025b26"
      },
      "execution_count": 159,
      "outputs": [
        {
          "output_type": "display_data",
          "data": {
            "text/plain": [
              "<Figure size 1080x504 with 1 Axes>"
            ],
            "image/png": "[encoded data removed]"
          },
          "metadata": {}
        }
      ]
    },
    {
      "cell_type": "markdown",
      "source": [
        "Fitting with optimal parameters"
      ],
      "metadata": {
        "id": "JY4LBAKFj9er"
      }
    },
    {
      "cell_type": "code",
      "source": [
        "# Fitting KN to the Training set:\n",
        "classifier = KNeighborsClassifier(\n",
        "n_neighbors = 1, \n",
        "metric = 'minkowski', p = 2)\n",
        "classifier.fit(X_train, y_train)\n",
        "# Predicting the Test set results \n",
        "y_pred  = classifier.predict(X_test)\n",
        "#Evaluate results\n",
        "acc = accuracy_score(y_test, y_pred )\n",
        "prec = precision_score(y_test, y_pred )\n",
        "rec = recall_score(y_test, y_pred )\n",
        "f1 = f1_score(y_test, y_pred )\n",
        "f2 = fbeta_score(y_test, y_pred, beta=2.0)\n",
        "model_results = pd.DataFrame([['KNeighbours', \n",
        "acc, prec, rec, f1, f2]], columns = ['Model',\n",
        " 'Accuracy', 'Precision', 'Recall',\n",
        " 'F1 Score', 'F2 Score'])\n",
        "results = results.append(model_results, ignore_index = True)\n",
        "results = results.sort_values([\"Precision\", \n",
        "\"Recall\", \"F2 Score\"], ascending = False)\n",
        "print (results)"
      ],
      "metadata": {
        "colab": {
          "base_uri": "https://localhost:8080/"
        },
        "id": "mcG-2H2sujKy",
        "outputId": "6bb5b8dd-b9d8-47a4-e80e-ac48c4bf0abf"
      },
      "execution_count": 160,
      "outputs": [
        {
          "output_type": "stream",
          "name": "stdout",
          "text": [
            "              Model  Accuracy  Precision    Recall  F1 Score  F2 Score\n",
            "0  GradientBoosting  0.927374   1.000000  0.697674  0.821918  0.742574\n",
            "1     XGBClassifier  0.899441   1.000000  0.581395  0.735294  0.634518\n",
            "2     Random Forest  0.910615   0.909091  0.697674  0.789474  0.731707\n",
            "3       KNeighbours  0.905028   0.825000  0.767442  0.795181  0.778302\n"
          ]
        }
      ]
    },
    {
      "cell_type": "markdown",
      "source": [
        "####**Verifying the best model by checking the ROC CURVE and AUC**"
      ],
      "metadata": {
        "id": "4NeuexHVksGz"
      }
    },
    {
      "cell_type": "markdown",
      "source": [
        "Though classification accuracy is the most common, AUC is important to check since we have class a imbalance, with more active(not churned) users.\n"
      ],
      "metadata": {
        "id": "ACzNfbkNwiIb"
      }
    },
    {
      "cell_type": "code",
      "source": [
        "from sklearn.metrics import plot_roc_curve"
      ],
      "metadata": {
        "id": "TfxjvBDJ2hqN"
      },
      "execution_count": 161,
      "outputs": []
    },
    {
      "cell_type": "code",
      "source": [
        "kn = KNeighborsClassifier()\n",
        "rf = RandomForestClassifier()\n",
        "xb = XGBClassifier()\n",
        "gb = GradientBoostingClassifier()"
      ],
      "metadata": {
        "id": "-XsjsTgLzICK"
      },
      "execution_count": 162,
      "outputs": []
    },
    {
      "cell_type": "code",
      "source": [
        "kn.fit(X_train, y_train);\n",
        "rf.fit(X_train, y_train);\n",
        "xb.fit(X_train, y_train);\n",
        "gb.fit(X_train, y_train);"
      ],
      "metadata": {
        "id": "ONUtGn8Czwyg"
      },
      "execution_count": 163,
      "outputs": []
    },
    {
      "cell_type": "code",
      "source": [
        "from sklearn.metrics import plot_roc_curve\n",
        "disp = plot_roc_curve(kn, X_test, y_test)\n",
        "plot_roc_curve(rf, X_test, y_test, ax=disp.ax_);\n",
        "plot_roc_curve(xb, X_test, y_test, ax=disp.ax_);\n",
        "plot_roc_curve(gb, X_test, y_test, ax=disp.ax_);"
      ],
      "metadata": {
        "colab": {
          "base_uri": "https://localhost:8080/",
          "height": 285
        },
        "id": "6ViDO-oq0bbF",
        "outputId": "02a0262e-4171-445e-8afc-be8ce32983a5"
      },
      "execution_count": 164,
      "outputs": [
        {
          "output_type": "display_data",
          "data": {
            "text/plain": [
              "<Figure size 432x288 with 1 Axes>"
            ],
            "image/png": "[encoded data removed]"
          },
          "metadata": {}
        }
      ]
    },
    {
      "cell_type": "markdown",
      "source": [
        "From the AUC , we can conclude that the Gradient Boosting classifier is an optimal model for the given dataset as it has the highest combination of precision, recall and F2 scores; giving most number of correct positive predictions while minimizing the false negatives. "
      ],
      "metadata": {
        "id": "-N_n0_-mmZVG"
      }
    },
    {
      "cell_type": "code",
      "source": [
        "#chosen model ROC Curve\n",
        "classifier = GradientBoostingClassifier(random_state = 0)\n",
        "\n",
        "classifier.fit(X_train, y_train) \n",
        "probs = classifier.predict_proba(X_test) \n",
        "probs = probs[:, 1] \n",
        "classifier_roc_auc = accuracy_score(y_test, y_pred )\n",
        "\n",
        "\n",
        "rf_fpr, rf_tpr, rf_thresholds = roc_curve(y_test, classifier.predict_proba(X_test)[:,1])\n",
        "plt.figure(figsize=(14, 6))\n",
        "# Plot Logistic Regression ROC\n",
        "plt.plot(rf_fpr, rf_tpr, \n",
        "label='Gradient Boosting Classifier()(area = %0.2f)' % classifier_roc_auc)\n",
        "# Plot Base Rate ROC\n",
        "plt.plot([0,1], [0,1],label='Base Rate' 'k--')\n",
        "plt.xlim([0.0, 1.0])\n",
        "plt.ylim([0.0, 1.05])\n",
        "plt.ylabel('True Positive Rate \\n',horizontalalignment=\"center\",\n",
        "fontstyle = \"normal\", fontsize = \"medium\", \n",
        "fontfamily = \"sans-serif\")\n",
        "plt.xlabel('\\nFalse Positive Rate \\n',horizontalalignment=\"center\",\n",
        "fontstyle = \"normal\", fontsize = \"medium\", \n",
        "fontfamily = \"sans-serif\")\n",
        "plt.title('ROC Graph \\n',horizontalalignment=\"center\", \n",
        "fontstyle = \"normal\", fontsize = \"22\", \n",
        "fontfamily = \"sans-serif\")\n",
        "plt.legend(loc=\"lower right\", fontsize = \"medium\")\n",
        "plt.xticks(rotation=0, horizontalalignment=\"center\")\n",
        "plt.yticks(rotation=0, horizontalalignment=\"right\")\n",
        "plt.show()"
      ],
      "metadata": {
        "colab": {
          "base_uri": "https://localhost:8080/",
          "height": 469
        },
        "id": "iqboYm7TwI6j",
        "outputId": "10d48373-f0f0-4df0-8ab6-db1ed2886634"
      },
      "execution_count": 165,
      "outputs": [
        {
          "output_type": "display_data",
          "data": {
            "text/plain": [
              "<Figure size 1008x432 with 1 Axes>"
            ],
            "image/png": "[encoded data removed]"
          },
          "metadata": {}
        }
      ]
    },
    {
      "cell_type": "markdown",
      "source": [
        "#**Model Evaluation**\n",
        "####Training & evaluating our chosen model:"
      ],
      "metadata": {
        "id": "pmQ2NvVxRU58"
      }
    },
    {
      "cell_type": "code",
      "source": [
        "#classifier = GradientBoostingClassifier(random_state = 0)\n",
        "classifier.fit(X_train, y_train)\n",
        "# Predict the Test set results\n",
        "y_pred = classifier.predict(X_test)\n",
        "#Evaluate Model Results on Test Set:\n",
        "acc = accuracy_score(y_test, y_pred )\n",
        "prec = precision_score(y_test, y_pred )\n",
        "rec = recall_score(y_test, y_pred )\n",
        "f1 = f1_score(y_test, y_pred )\n",
        "f2 = fbeta_score(y_test, y_pred, beta=2.0)\n",
        "results = pd.DataFrame([['GradientBoostingClassifier',\n",
        "acc, prec, rec, f1, f2]],columns = ['Model', 'Accuracy', 'Precision', 'Recall', 'F1 Score', 'F2 Score'])\n",
        "print (results)"
      ],
      "metadata": {
        "colab": {
          "base_uri": "https://localhost:8080/"
        },
        "id": "S02A6ehMRnaI",
        "outputId": "bd116d33-d141-4d8b-e335-9caf8a58c569"
      },
      "execution_count": 166,
      "outputs": [
        {
          "output_type": "stream",
          "name": "stdout",
          "text": [
            "                        Model  Accuracy  Precision    Recall  F1 Score  \\\n",
            "0  GradientBoostingClassifier  0.927374        1.0  0.697674  0.821918   \n",
            "\n",
            "   F2 Score  \n",
            "0  0.742574  \n"
          ]
        }
      ]
    },
    {
      "cell_type": "markdown",
      "source": [
        "####**k-Fold Cross-Validation:**"
      ],
      "metadata": {
        "id": "_lYZLYWcTBve"
      }
    },
    {
      "cell_type": "markdown",
      "source": [
        "k-fold Cross Validation results indicate that we would have an accuracy anywhere 88%, give. or take 7%, while running this model on any test set."
      ],
      "metadata": {
        "id": "PUKibKe2ToAL"
      }
    },
    {
      "cell_type": "code",
      "source": [
        "accuracies = cross_val_score(estimator = classifier,\n",
        " X = X_train, y = y_train, cv = 10)\n",
        "print(\"Logistic Regression Classifier Accuracy: %0.2f (+/- %0.2f)\"  % (accuracies.mean(), \n",
        "accuracies.std() * 2))"
      ],
      "metadata": {
        "colab": {
          "base_uri": "https://localhost:8080/"
        },
        "id": "afZ75qzNS98f",
        "outputId": "c563a507-b5a8-4892-adbc-3a0fa3555dab"
      },
      "execution_count": 167,
      "outputs": [
        {
          "output_type": "stream",
          "name": "stdout",
          "text": [
            "Logistic Regression Classifier Accuracy: 0.88 (+/- 0.07)\n"
          ]
        }
      ]
    },
    {
      "cell_type": "markdown",
      "source": [
        "####**Confusion Matrix:**\n",
        "The Confusion matrix indicates that we have 136+30 correct predictions and 13 incorrect predictions."
      ],
      "metadata": {
        "id": "-9YNQQ13UAv7"
      }
    },
    {
      "cell_type": "code",
      "source": [
        "cm = confusion_matrix(y_test, y_pred) \n",
        "df_cm = pd.DataFrame(cm, index = (0, 1), columns = (0, 1))\n",
        "plt.figure(figsize = (28,20))\n",
        "fig, ax = plt.subplots()\n",
        "sn.set(font_scale=1.4)\n",
        "sn.heatmap(df_cm, annot=True, fmt='g'#,cmap=\"YlGnBu\" \n",
        "           )\n",
        "class_names=[0,1]\n",
        "tick_marks = np.arange(len(class_names))\n",
        "plt.tight_layout()\n",
        "plt.title('Confusion matrix\\n', y=1.1)\n",
        "plt.xticks(tick_marks, class_names)\n",
        "plt.yticks(tick_marks, class_names)\n",
        "ax.xaxis.set_label_position(\"top\")\n",
        "plt.ylabel('Actual label\\n')\n",
        "plt.xlabel('Predicted label\\n')"
      ],
      "metadata": {
        "colab": {
          "base_uri": "https://localhost:8080/",
          "height": 387
        },
        "id": "bvF8jtwATmC3",
        "outputId": "6a8d22e6-f84d-4551-bbd6-55aef5068aff"
      },
      "execution_count": 168,
      "outputs": [
        {
          "output_type": "execute_result",
          "data": {
            "text/plain": [
              "Text(0.5, 12.5, 'Predicted label\\n')"
            ]
          },
          "metadata": {},
          "execution_count": 168
        },
        {
          "output_type": "display_data",
          "data": {
            "text/plain": [
              "<Figure size 2016x1440 with 0 Axes>"
            ]
          },
          "metadata": {}
        },
        {
          "output_type": "display_data",
          "data": {
            "text/plain": [
              "<Figure size 432x288 with 2 Axes>"
            ],
            "image/png": "[encoded data removed]"
          },
          "metadata": {}
        }
      ]
    },
    {
      "cell_type": "markdown",
      "source": [
        "####**Evaluate the model using ROC Graph**"
      ],
      "metadata": {
        "id": "w7ll4jjoUkM8"
      }
    },
    {
      "cell_type": "code",
      "source": [
        "classifier.fit(X_train, y_train) \n",
        "probs = classifier.predict_proba(X_test) \n",
        "probs = probs[:, 1] \n",
        "classifier_roc_auc = accuracy_score(y_test, y_pred )\n",
        "rf_fpr, rf_tpr, rf_thresholds = roc_curve(y_test, classifier.predict_proba(X_test)[:,1])\n",
        "plt.figure(figsize=(14, 6))\n",
        "# Plot GB ROC\n",
        "plt.plot(rf_fpr, rf_tpr, \n",
        "label='Gradient boosting (area = %0.2f)' % classifier_roc_auc)\n",
        "# Plot Base Rate ROC\n",
        "plt.plot([0,1], [0,1],label='Base Rate' 'k--')\n",
        "plt.xlim([0.0, 1.0])\n",
        "plt.ylim([0.0, 1.05])\n",
        "plt.ylabel('True Positive Rate \\n',horizontalalignment=\"center\",\n",
        "fontstyle = \"normal\", fontsize = \"medium\", \n",
        "fontfamily = \"sans-serif\")\n",
        "plt.xlabel('\\nFalse Positive Rate \\n',horizontalalignment=\"center\",\n",
        "fontstyle = \"normal\", fontsize = \"medium\", \n",
        "fontfamily = \"sans-serif\")\n",
        "plt.title('ROC Graph \\n',horizontalalignment=\"center\", \n",
        "fontstyle = \"normal\", fontsize = \"22\", \n",
        "fontfamily = \"sans-serif\")\n",
        "plt.legend(loc=\"lower right\", fontsize = \"medium\")\n",
        "plt.xticks(rotation=0, horizontalalignment=\"center\")\n",
        "plt.yticks(rotation=0, horizontalalignment=\"right\")\n",
        "plt.show()"
      ],
      "metadata": {
        "colab": {
          "base_uri": "https://localhost:8080/",
          "height": 490
        },
        "id": "BPRoOtDjS_xt",
        "outputId": "f2c53bd7-1624-41ab-a89c-a1ef4a7cc805"
      },
      "execution_count": 169,
      "outputs": [
        {
          "output_type": "display_data",
          "data": {
            "text/plain": [
              "<Figure size 1008x432 with 1 Axes>"
            ],
            "image/png": "[encoded data removed]"
          },
          "metadata": {}
        }
      ]
    },
    {
      "cell_type": "markdown",
      "source": [
        "####**Classification report**"
      ],
      "metadata": {
        "id": "Vdsf8FW3VgWK"
      }
    },
    {
      "cell_type": "code",
      "source": [
        "report = metrics.classification_report(y_test, y_pred)\n",
        "print(report)"
      ],
      "metadata": {
        "colab": {
          "base_uri": "https://localhost:8080/"
        },
        "id": "3WPQtHSXWnfp",
        "outputId": "e39286a2-326a-49b9-8a46-ef6c24f07ebb"
      },
      "execution_count": 170,
      "outputs": [
        {
          "output_type": "stream",
          "name": "stdout",
          "text": [
            "              precision    recall  f1-score   support\n",
            "\n",
            "           0       0.91      1.00      0.95       136\n",
            "           1       1.00      0.70      0.82        43\n",
            "\n",
            "    accuracy                           0.93       179\n",
            "   macro avg       0.96      0.85      0.89       179\n",
            "weighted avg       0.93      0.93      0.92       179\n",
            "\n"
          ]
        }
      ]
    },
    {
      "cell_type": "markdown",
      "source": [
        "##**Conclusion**\n",
        "Our chosen machine learning classifier predicts the propensity of a customer to churn with a reasonable accuracy score."
      ],
      "metadata": {
        "id": "KjvKA1E8XwLK"
      }
    },
    {
      "cell_type": "markdown",
      "source": [
        "Dataset: https://www.kaggle.com/datasets/tejashvi14/tour-travels-customer-churn-prediction\n",
        "\n",
        "\n"
      ],
      "metadata": {
        "id": "xTuhThPz4u1u"
      }
    }
  ]
}